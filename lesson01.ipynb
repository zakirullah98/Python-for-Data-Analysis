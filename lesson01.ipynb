{
 "cells": [
  {
   "cell_type": "markdown",
   "metadata": {},
   "source": [
    "<h1 style=\"text-align:center\"> Course Name: Python for Data Analysis </h1>\n",
    "<h1 style=\"text-align:center\"> Chapter 01 - Python Language Basics-基础知识</h1>"
   ]
  },
  {
   "cell_type": "markdown",
   "metadata": {
    "collapsed": true
   },
   "source": [
    "In this lesson we will cover some basic aspects of Python using IPython (Jupyter) notebooks. \n",
    "\n",
    "1. Basic Syntax\n",
    "2. Data types and variables\n",
    "3. Date and Time\n",
    "4. Operators\n",
    "5. Special Commands"
   ]
  },
  {
   "cell_type": "markdown",
   "metadata": {},
   "source": [
    "### 1. Syntax-语法"
   ]
  },
  {
   "cell_type": "markdown",
   "metadata": {},
   "source": [
    "#### 1.1 Hello World Program"
   ]
  },
  {
   "cell_type": "code",
   "execution_count": 1,
   "metadata": {},
   "outputs": [
    {
     "name": "stdout",
     "output_type": "stream",
     "text": [
      "Hello World!\n"
     ]
    }
   ],
   "source": [
    "print(\"Hello World!\")"
   ]
  },
  {
   "cell_type": "code",
   "execution_count": 2,
   "metadata": {},
   "outputs": [
    {
     "name": "stdout",
     "output_type": "stream",
     "text": [
      "\n",
      "Here is a block\n",
      "of text that we\n",
      "are going to print.\n",
      "\n"
     ]
    }
   ],
   "source": [
    "# multi line print\n",
    "print(\"\"\"\n",
    "Here is a block\n",
    "of text that we\n",
    "are going to print.\n",
    "\"\"\")"
   ]
  },
  {
   "cell_type": "markdown",
   "metadata": {},
   "source": [
    "#### 1.3 Variables & Assignments-变量 & 赋值"
   ]
  },
  {
   "cell_type": "markdown",
   "metadata": {},
   "source": [
    "<a id=\"variables\"></a> \n",
    "Variables are containers for storing data values, Python has no commands (int, float, string etc) for declaring  variables."
   ]
  },
  {
   "cell_type": "code",
   "execution_count": 4,
   "metadata": {},
   "outputs": [
    {
     "data": {
      "text/plain": [
       "'a'"
      ]
     },
     "execution_count": 4,
     "metadata": {},
     "output_type": "execute_result"
    }
   ],
   "source": [
    "#A variable name cannot start with a number\n",
    "#A variable name can only contain alpha-numeric characters and underscores (A-z, 0-9, and _ )\n",
    "\n",
    "x=4 # here we just declare the variable\n",
    "\n",
    "_name=\"张老师\"  \n",
    "\n",
    "name_pinyin=\"zhang laoshi\"  \n",
    "\n",
    "b=2.9 # float  \n",
    "\n",
    "a=True \n",
    "\n",
    "c=\"a\"  \n",
    "\n",
    "c"
   ]
  },
  {
   "cell_type": "code",
   "execution_count": 5,
   "metadata": {},
   "outputs": [
    {
     "name": "stdout",
     "output_type": "stream",
     "text": [
      "4\n"
     ]
    }
   ],
   "source": [
    "print(x)"
   ]
  },
  {
   "cell_type": "code",
   "execution_count": 6,
   "metadata": {
    "scrolled": true
   },
   "outputs": [
    {
     "data": {
      "text/plain": [
       "'张老师'"
      ]
     },
     "execution_count": 6,
     "metadata": {},
     "output_type": "execute_result"
    }
   ],
   "source": [
    "_name"
   ]
  },
  {
   "cell_type": "markdown",
   "metadata": {},
   "source": [
    "##### 1.3.1 Assign Multiple Values"
   ]
  },
  {
   "cell_type": "code",
   "execution_count": 7,
   "metadata": {},
   "outputs": [
    {
     "name": "stdout",
     "output_type": "stream",
     "text": [
      "牛肉\n",
      "土豆\n",
      "西红柿\n"
     ]
    }
   ],
   "source": [
    "# beef, potato(tudou), tomato\n",
    "\n",
    "l, m, n = \"牛肉\", \"土豆\", \"西红柿\"\n",
    "\n",
    "# The Python print() function is often used to output variables.\n",
    "print(l)\n",
    "print(m)\n",
    "print(n)"
   ]
  },
  {
   "cell_type": "markdown",
   "metadata": {},
   "source": [
    "<a id=\"Global Variables\"></a>\n",
    "##### 1.3.2 Global   and local variables-全局变量和局部变量"
   ]
  },
  {
   "cell_type": "markdown",
   "metadata": {},
   "source": [
    "Variables that are created outside of a function. Global variables can be used, both inside of functions and outside."
   ]
  },
  {
   "cell_type": "code",
   "execution_count": null,
   "metadata": {},
   "outputs": [],
   "source": [
    "x = \"awesome\"\n",
    "\n",
    "# \"myfunc\" is a function\n",
    "def myfunc():\n",
    "  l=2\n",
    "  print(\"Python is \" + x)\n",
    "\n",
    "# calling \"myfunc\"\n",
    "myfunc()"
   ]
  },
  {
   "cell_type": "markdown",
   "metadata": {},
   "source": [
    "##### 1.3.3 Identifiers-标识符\n",
    "Identifiers are the name given to variables, classes, methods, etc."
   ]
  },
  {
   "cell_type": "markdown",
   "metadata": {},
   "source": [
    "######  Rules for Naming an Identifier\n",
    "* Identifiers cannot be a keyword.\n",
    "* Identifiers are case-sensitive.\n",
    "* It can have a sequence of letters and digits, however, it must begin with a letter or _. \n",
    "* The first letter of an identifier cannot be a digit.\n",
    "* Whitespaces are not allowed.\n",
    "* We cannot use special symbols like !, @, #, $, and so on."
   ]
  },
  {
   "cell_type": "code",
   "execution_count": 8,
   "metadata": {},
   "outputs": [],
   "source": [
    "#language is a variable (an identifier) which holds the value 'Python'.\n",
    "language = 'Python'"
   ]
  },
  {
   "cell_type": "code",
   "execution_count": 9,
   "metadata": {},
   "outputs": [
    {
     "ename": "SyntaxError",
     "evalue": "invalid syntax (3849131570.py, line 2)",
     "output_type": "error",
     "traceback": [
      "\u001b[1;36m  Cell \u001b[1;32mIn[9], line 2\u001b[1;36m\u001b[0m\n\u001b[1;33m    continue = 'Python'\u001b[0m\n\u001b[1;37m             ^\u001b[0m\n\u001b[1;31mSyntaxError\u001b[0m\u001b[1;31m:\u001b[0m invalid syntax\n"
     ]
    }
   ],
   "source": [
    "#We cannot use keywords as variable names \n",
    "continue = 'Python'"
   ]
  },
  {
   "cell_type": "markdown",
   "metadata": {},
   "source": [
    "Some Valid and Invalid Identifiers in Python\n",
    "\n",
    "<!-- cell padding-->\n",
    "<table style=\"width:100%\" >\n",
    "\n",
    "<tr >       <th style=\"text-align:left\">Valid Identifiers</th>  <th style=\"text-align:left\">Invalid Identifiers</th>  </tr> \n",
    "\n",
    "<tr>       <td style=\"text-align:left\">score</td>        <td style=\"text-align:left\">@core</td>           </tr> \n",
    "<tr>       <td style=\"text-align:left\">return_value</td>         <td style=\"text-align:left\">return</td>           </tr> \n",
    "<tr>       <td style=\"text-align:left\">highest_score</td>         <td style=\"text-align:left\">highest score </td>         </tr> \n",
    "<tr>       <td style=\"text-align:left\">name1</td>          <td style=\"text-align:left\">1name </td>         </tr> \n",
    "<tr>       <td style=\"text-align:left\">convert_to_string</td>           <td style=\"text-align:left\">convert to_string</td> </tr>\n",
    "</table"
   ]
  },
  {
   "cell_type": "markdown",
   "metadata": {},
   "source": [
    "######   Python Key Words-关键字\n",
    "\n",
    "* Predefined, reserved words used in Python programming that have special meanings to the compiler.\n",
    "\n",
    "* We cannot use a keyword as a variable name, function name, or any other identifier. \n",
    "\n",
    "* All the keywords except True, False and None are in lowercase and they must be written as they are. "
   ]
  },
  {
   "cell_type": "markdown",
   "metadata": {},
   "source": [
    "<!-- cell padding-->\n",
    "<table style=\"width:100%\" >\n",
    "\n",
    "<tr>       <td style=\"text-align:left\">False</td>        <td style=\"text-align:left\">True</td>      <td style=\"text-align:left\">None</td>       <td style=\"text-align:left\">raise</td>   </tr> \n",
    "<tr>       <td style=\"text-align:left\">if</td>         <td style=\"text-align:left\">del</td>      <td style=\"text-align:left\">import</td>   <td style=\"text-align:left\">return</td>  </tr> \n",
    "<tr>       <td style=\"text-align:left\">def</td>         <td style=\"text-align:left\">elif </td>    <td style=\"text-align:left\">in</td>       <td style=\"text-align:left\">try</td>     </tr> \n",
    "<tr>       <td style=\"text-align:left\">and</td>          <td style=\"text-align:left\">else </td>    <td style=\"text-align:left\">is</td>       <td style=\"text-align:left\">while</td>   </tr> \n",
    "<tr>       <td style=\"text-align:left\">as</td>           <td style=\"text-align:left\">except</td>   <td style=\"text-align:left\">lambda</td>   <td style=\"text-align:left\">with</td>    </tr> \n",
    "<tr>       <td style=\"text-align:left\">assert</td>       <td style=\"text-align:left\">finally</td>  <td style=\"text-align:left\">nonlocal</td> <td style=\"text-align:left\">yield</td>   </tr> \n",
    "<tr>       <td style=\"text-align:left\">break</td>        <td style=\"text-align:left\">for</td>      <td style=\"text-align:left\">not</td>      <td style=\"text-align:left\">await</td>   </tr> \n",
    "<tr>       <td style=\"text-align:left\">class</td>        <td style=\"text-align:left\">form</td>     <td style=\"text-align:left\">or</td>       <td style=\"text-align:left\">async</td>   </tr> \n",
    "<tr>       <td style=\"text-align:left\">continue</td>     <td style=\"text-align:left\">global</td>   <td style=\"text-align:left\">pass</td>      <td style=\"text-align:left\"></td>       </tr>    \n",
    "</table>"
   ]
  },
  {
   "cell_type": "markdown",
   "metadata": {},
   "source": [
    "#### 1.2 Expressions-表达式\n",
    "An expression in Python is a combination of operators and operands."
   ]
  },
  {
   "cell_type": "code",
   "execution_count": null,
   "metadata": {},
   "outputs": [],
   "source": [
    "#variables\n",
    "a1=10\n",
    "a2=4\n",
    "\n",
    "#expression-1\n",
    "d=a1/a2\n",
    "\n",
    "print(d)"
   ]
  },
  {
   "cell_type": "code",
   "execution_count": null,
   "metadata": {},
   "outputs": [],
   "source": [
    "#expression-2\n",
    "s1=a1+a2\n",
    "\n",
    "print(s1)"
   ]
  },
  {
   "cell_type": "markdown",
   "metadata": {},
   "source": [
    "### 1.4 Comments-注释"
   ]
  },
  {
   "cell_type": "markdown",
   "metadata": {},
   "source": [
    "#### 1.4.1 Comments can be used to explain Python code."
   ]
  },
  {
   "cell_type": "code",
   "execution_count": null,
   "metadata": {},
   "outputs": [],
   "source": [
    "print(\"x and name are variables\")  #This is a comment"
   ]
  },
  {
   "cell_type": "markdown",
   "metadata": {},
   "source": [
    "#### 1.4.2 Multi line Comments"
   ]
  },
  {
   "cell_type": "code",
   "execution_count": null,
   "metadata": {},
   "outputs": [],
   "source": [
    "#This is a comment\n",
    "#written in\n",
    "#more than just one line\n",
    "\n",
    "\"\"\"\n",
    "This is a comment\n",
    "written in\n",
    "more than  one lines, but it seems not supported in jyputer notebook.\n",
    "\"\"\""
   ]
  },
  {
   "cell_type": "markdown",
   "metadata": {},
   "source": [
    "<a id=\"types\"></a>\n",
    "\n",
    "### 1.5 Data Types-数据类型\n",
    "\n",
    "Python has the following data types built-in by default, in these categories:\n",
    "\n",
    "1. Numeric Types:\tint, float, complex\n",
    "2. Text Type:\tstr\n",
    "3. Boolean Type:\tbool"
   ]
  },
  {
   "cell_type": "markdown",
   "metadata": {},
   "source": [
    "#### 1.5.1 Numbers-数字: integers, float and complex-整数、浮点和复数"
   ]
  },
  {
   "cell_type": "markdown",
   "metadata": {},
   "source": [
    "#### integer"
   ]
  },
  {
   "cell_type": "code",
   "execution_count": null,
   "metadata": {},
   "outputs": [],
   "source": [
    "# integer is a whole number, positive or negative, without decimals\n",
    "\n",
    "int1=1\n",
    "\n",
    "int2=35656222554887711\n",
    "\n",
    "int3=-3255522\n",
    "\n",
    "print(int1,int2,int3)"
   ]
  },
  {
   "cell_type": "markdown",
   "metadata": {},
   "source": [
    "#### Float"
   ]
  },
  {
   "cell_type": "code",
   "execution_count": null,
   "metadata": {},
   "outputs": [],
   "source": [
    "# float are number, positive or negative, containing one or more decimals.\n",
    "\n",
    "20.5 # float"
   ]
  },
  {
   "cell_type": "markdown",
   "metadata": {},
   "source": [
    "#### Complex\n",
    "complex numbers has a real and imaginary part"
   ]
  },
  {
   "cell_type": "code",
   "execution_count": null,
   "metadata": {},
   "outputs": [],
   "source": [
    "cmp1= 3+5j\n",
    "cmp2= 5j\n",
    "cmp3= -5j\n",
    "\n",
    "print(cmp1,cmp2,cmp3)"
   ]
  },
  {
   "cell_type": "code",
   "execution_count": null,
   "metadata": {},
   "outputs": [],
   "source": [
    "# You can get the data type of any object by using the type() function:"
   ]
  },
  {
   "cell_type": "code",
   "execution_count": null,
   "metadata": {},
   "outputs": [],
   "source": [
    "type(1)"
   ]
  },
  {
   "cell_type": "code",
   "execution_count": null,
   "metadata": {
    "scrolled": true
   },
   "outputs": [],
   "source": [
    "type(1/2)"
   ]
  },
  {
   "cell_type": "code",
   "execution_count": null,
   "metadata": {},
   "outputs": [],
   "source": [
    "type(cmp1)"
   ]
  },
  {
   "cell_type": "markdown",
   "metadata": {},
   "source": [
    "#### 1.5.2 Booleans-布尔值\n",
    "\n",
    "Booleans represent one of two values: True or False."
   ]
  },
  {
   "cell_type": "code",
   "execution_count": null,
   "metadata": {},
   "outputs": [],
   "source": [
    "a = True\n",
    "b = False"
   ]
  },
  {
   "cell_type": "code",
   "execution_count": null,
   "metadata": {},
   "outputs": [],
   "source": [
    "a == True"
   ]
  },
  {
   "cell_type": "code",
   "execution_count": null,
   "metadata": {},
   "outputs": [],
   "source": [
    "b == True"
   ]
  },
  {
   "cell_type": "code",
   "execution_count": null,
   "metadata": {
    "scrolled": true
   },
   "outputs": [],
   "source": [
    "a or b"
   ]
  },
  {
   "cell_type": "code",
   "execution_count": null,
   "metadata": {},
   "outputs": [],
   "source": [
    "a and b"
   ]
  },
  {
   "cell_type": "code",
   "execution_count": null,
   "metadata": {},
   "outputs": [],
   "source": [
    "print(10 > 9)\n",
    "print(10 == 9)\n",
    "print(10 < 9)"
   ]
  },
  {
   "cell_type": "markdown",
   "metadata": {},
   "source": [
    "#### 1.5.3 Strings-串\n",
    "\n",
    "Strings in python are surrounded by either single quotation marks, or double quotation marks.\n",
    "\n",
    "Strings are sequences of characters."
   ]
  },
  {
   "cell_type": "code",
   "execution_count": null,
   "metadata": {},
   "outputs": [],
   "source": [
    "s = 'hello, world'\n",
    "print(s)"
   ]
  },
  {
   "cell_type": "code",
   "execution_count": null,
   "metadata": {},
   "outputs": [],
   "source": [
    "dir(s)"
   ]
  },
  {
   "cell_type": "markdown",
   "metadata": {},
   "source": [
    "##### 1.5.3.1 Python String Methods"
   ]
  },
  {
   "cell_type": "code",
   "execution_count": null,
   "metadata": {},
   "outputs": [],
   "source": [
    "#The dir() method returns the list of valid attributes of the passed object.\n",
    "\n",
    "#dir(s) will return a list of String Methods\n",
    "\n",
    "dir(s)"
   ]
  },
  {
   "cell_type": "code",
   "execution_count": null,
   "metadata": {},
   "outputs": [],
   "source": [
    "#The Python help function is used to display the documentation of\n",
    "# modules, functions, classes, keywords, etc\n",
    "help(s.upper)"
   ]
  },
  {
   "cell_type": "code",
   "execution_count": null,
   "metadata": {},
   "outputs": [],
   "source": [
    "#The Python help function\n",
    "s.upper?"
   ]
  },
  {
   "cell_type": "code",
   "execution_count": null,
   "metadata": {},
   "outputs": [],
   "source": [
    "#The count() method returns the number of times a \n",
    "#specified value appears in the string.\n",
    "s.count(\"l\")"
   ]
  },
  {
   "cell_type": "code",
   "execution_count": null,
   "metadata": {},
   "outputs": [],
   "source": [
    "#Upper case the first letter in this sentence:\n",
    "help(s.capitalize)"
   ]
  },
  {
   "cell_type": "code",
   "execution_count": null,
   "metadata": {},
   "outputs": [],
   "source": [
    "#Upper case the first letter in this sentence:\n",
    "s.capitalize()"
   ]
  },
  {
   "cell_type": "code",
   "execution_count": null,
   "metadata": {},
   "outputs": [],
   "source": [
    "#type() function is used to get the type of an object\n",
    "\n",
    "type(s)"
   ]
  },
  {
   "cell_type": "code",
   "execution_count": null,
   "metadata": {},
   "outputs": [],
   "source": [
    "#Upper Case\n",
    "print(s.upper())"
   ]
  },
  {
   "cell_type": "code",
   "execution_count": null,
   "metadata": {},
   "outputs": [],
   "source": [
    "#replacing\n",
    "print(s.replace(\"h\", \"J\"))"
   ]
  },
  {
   "cell_type": "code",
   "execution_count": null,
   "metadata": {},
   "outputs": [],
   "source": [
    "# length of the string\n",
    "len(s)"
   ]
  },
  {
   "cell_type": "markdown",
   "metadata": {},
   "source": [
    "Python has a set of built-in methods that you can use on strings\n",
    "\n",
    "<!-- cell padding-->\n",
    "<table style=\"width:100%\" >\n",
    "\n",
    "<tr>\n",
    "<th style=\"text-align:left\">Method</th> <th style=\"text-align:left\">Description</th> </tr>\n",
    "  <tr>     <td style=\"text-align:left\">capitalize()</td><td style=\"text-align:left\">Converts the first     character to upper case</td>  </tr>\n",
    "  <tr>\n",
    "    <td style=\"text-align:left\">casefold()</td><td style=\"text-align:left\">Converts string into     lower case</td>  </tr>\n",
    "  <tr>    <td style=\"text-align:left\">center()</td><td style=\"text-align:left\">Returns a centered    string</td>  </tr>\n",
    "  <tr>\n",
    "    <td style=\"text-align:left\">count()</td><td style=\"text-align:left\">Returns the number of \n",
    "    times a specified value occurs in a string</td>\n",
    "  </tr>\n",
    "  <tr>\n",
    "    <td style=\"text-align:left\">encode()</td><td style=\"text-align:left\">Returns an encoded \n",
    "    version of the string</td>\n",
    "  </tr>\n",
    "  <tr>\n",
    "    <td style=\"text-align:left\">endswith()</td><td style=\"text-align:left\">Returns true if the \n",
    "    string ends with the specified value</td>\n",
    "  </tr>\n",
    "  <tr>\n",
    "    <td style=\"text-align:left\">expandtabs()</td><td style=\"text-align:left\">Sets the \n",
    "    tab size of the string</td>\n",
    "  </tr>\n",
    "  <tr>\n",
    "    <td style=\"text-align:left\">find()</td><td style=\"text-align:left\">Searches the string for a \n",
    "    specified value and returns the position of where it was found</td>\n",
    "  </tr>\n",
    "  <tr>\n",
    "    <td style=\"text-align:left\">format()</td><td style=\"text-align:left\">Formats specified \n",
    "    values in a string</td>\n",
    "  </tr>\n",
    "  <tr>\n",
    "    <td style=\"text-align:left\">format_map()</td><td style=\"text-align:left\">Formats specified \n",
    "    values in a string</td>\n",
    "  </tr>\n",
    "  <tr>\n",
    "    <td style=\"text-align:left\">index()</td><td style=\"text-align:left\">Searches the string \n",
    "    for a specified value and returns the position of where it was found</td>\n",
    "  </tr>\n",
    "  <tr>\n",
    "    <td style=\"text-align:left\">isalnum()</td><td style=\"text-align:left\">Returns True if all \n",
    "    characters in the string are alphanumeric</td>\n",
    "  </tr>\n",
    "  <tr>\n",
    "    <td style=\"text-align:left\">isalpha()</td><td style=\"text-align:left\">Returns True if all \n",
    "    characters in the string are in the alphabet</td>\n",
    "  </tr>\n",
    "  <tr>\n",
    "    <td style=\"text-align:left\">isascii()</td><td style=\"text-align:left\">Returns True if all \n",
    "    characters in the string are ascii characters</td>\n",
    "  </tr>\n",
    "  <tr>\n",
    "    <td style=\"text-align:left\">isdecimal()</td><td style=\"text-align:left\">Returns True if all \n",
    "    characters in the string are decimals</td>\n",
    "  </tr>\n",
    "  <tr>\n",
    "    <td style=\"text-align:left\">isdigit()</td><td style=\"text-align:left\">Returns True if all \n",
    "    characters in the string are digits</td>\n",
    "  </tr>\n",
    "  <tr>\n",
    "    <td style=\"text-align:left\">isidentifier()</td><td style=\"text-align:left\">Returns True if \n",
    "    the string is an identifier</td>\n",
    "  </tr>\n",
    "  <tr>\n",
    "    <td style=\"text-align:left\">islower()</td><td style=\"text-align:left\">Returns True if all \n",
    "    characters in the string are lower case</td>\n",
    "  </tr>\n",
    "  <tr>\n",
    "    <td style=\"text-align:left\">isnumeric()</td><td style=\"text-align:left\">Returns True if \n",
    "    all characters in the string are numeric</td>\n",
    "  </tr>\n",
    "  <tr>\n",
    "    <td style=\"text-align:left\">isprintable()</td><td style=\"text-align:left\">Returns True if \n",
    "    all characters in the string are printable</td>\n",
    "  </tr>\n",
    "  <tr>\n",
    "    <td style=\"text-align:left\">isspace()</td><td style=\"text-align:left\">Returns True if all \n",
    "    characters in the string are whitespaces</td>\n",
    "  </tr>\n",
    "  <tr>\n",
    "    <td style=\"text-align:left\">istitle()</td>\n",
    "    <td style=\"text-align:left\">Returns True if the string follows the rules of a \n",
    "    title</td>\n",
    "  </tr>\n",
    "  <tr>\n",
    "    <td style=\"text-align:left\">isupper()</td><td style=\"text-align:left\">Returns True if all \n",
    "    characters in the string are upper case</td>\n",
    "  </tr>\n",
    "  <tr>\n",
    "    <td style=\"text-align:left\">join()</td><td style=\"text-align:left\">Converts the elements of \n",
    "    an iterable into a string</td>\n",
    "  </tr>\n",
    "  <tr>\n",
    "    <td style=\"text-align:left\">ljust()</td><td style=\"text-align:left\">Returns a left justified \n",
    "    version of the string</td>\n",
    "  </tr>\n",
    "  <tr>\n",
    "    <td style=\"text-align:left\">lower()</td><td style=\"text-align:left\">Converts a string into \n",
    "    lower case</td>\n",
    "  </tr>\n",
    "  <tr>\n",
    "    <td style=\"text-align:left\">lstrip()</td><td style=\"text-align:left\">Returns a left trim \n",
    "    version of the string</td>\n",
    "  </tr>\n",
    "  <tr>\n",
    "    <td style=\"text-align:left\">maketrans()</td><td style=\"text-align:left\">Returns a \n",
    "    translation table to be used in translations</td>\n",
    "  </tr>\n",
    "  <tr>\n",
    "    <td style=\"text-align:left\">partition()</td><td style=\"text-align:left\">Returns a tuple \n",
    "    where the string is parted into three parts</td>\n",
    "  </tr>\n",
    "  <tr>\n",
    "    <td style=\"text-align:left\">replace()</td><td style=\"text-align:left\">Returns a string \n",
    "    where a specified value is replaced with a specified value</td>\n",
    "  </tr>\n",
    "  <tr>\n",
    "    <td style=\"text-align:left\">rfind()</td><td style=\"text-align:left\">Searches the string for \n",
    "    a specified value and returns the last position of where it was found</td>\n",
    "  </tr>\n",
    "  <tr>\n",
    "    <td style=\"text-align:left\">rindex()</td><td style=\"text-align:left\">Searches the string for \n",
    "    a specified value and returns the last position of where it was found</td>\n",
    "  </tr>\n",
    "  <tr>\n",
    "    <td style=\"text-align:left\">rjust()</td><td style=\"text-align:left\">Returns a right justified \n",
    "    version of the string</td>\n",
    "  </tr>\n",
    "  <tr>\n",
    "    <td style=\"text-align:left\">rpartition()</td><td style=\"text-align:left\">Returns a tuple \n",
    "    where the string is parted into three parts</td>\n",
    "  </tr>\n",
    "  <tr>\n",
    "    <td style=\"text-align:left\">rsplit()</td><td style=\"text-align:left\">Splits the string at \n",
    "    the specified separator, and returns a list</td>\n",
    "  </tr>\n",
    "  <tr>\n",
    "    <td style=\"text-align:left\">rstrip()</td><td style=\"text-align:left\">Returns a right trim \n",
    "    version of the string</td>\n",
    "  </tr>\n",
    "  <tr>\n",
    "    <td style=\"text-align:left\">split()</td><td style=\"text-align:left\">Splits the string at \n",
    "    the specified separator, and returns a list</td>\n",
    "  </tr>\n",
    "  <tr>\n",
    "    <td style=\"text-align:left\">splitlines()</td><td style=\"text-align:left\">Splits the string \n",
    "    at line breaks and returns a list</td>\n",
    "  </tr>\n",
    "  <tr>\n",
    "    <td style=\"text-align:left\">startswith()</td><td style=\"text-align:left\">Returns true if \n",
    "    the string starts with the specified value</td>\n",
    "  </tr>\n",
    "  <tr>\n",
    "    <td style=\"text-align:left\">strip()</td><td style=\"text-align:left\">Returns a trimmed version of the string</td>\n",
    "  </tr>\n",
    "  <tr>\n",
    "    <td style=\"text-align:left\">swapcase()</td><td style=\"text-align:left\">Swaps cases, lower \n",
    "    case becomes upper case and vice versa</td>\n",
    "  </tr>\n",
    "  <tr>\n",
    "    <td style=\"text-align:left\">title()</td><td style=\"text-align:left\">Converts the first \n",
    "    character of each word to upper case</td>\n",
    "  </tr>\n",
    "  <tr>\n",
    "    <td style=\"text-align:left\">translate()</td><td style=\"text-align:left\">Returns a \n",
    "    translated string</td>\n",
    "  </tr>\n",
    "  <tr>\n",
    "    <td style=\"text-align:left\">upper()</td><td style=\"text-align:left\">Converts a string \n",
    "    into upper case</td>\n",
    "  </tr>\n",
    "<tr><td style=\"text-align:left\">zfill()</td><td style=\"text-align:left\">Fills the string with \n",
    "  a specified number of 0 values at the beginning</td></tr> \n",
    "</table>\n",
    "    "
   ]
  },
  {
   "cell_type": "markdown",
   "metadata": {},
   "source": [
    "##### 1.5.3.2 String Operation\n",
    "A samle string \"My name is Wang\" with its indices is given below"
   ]
  },
  {
   "attachments": {
    "sequence-data-2.png": {
     "image/png": "[encoded data removed]"
    }
   },
   "cell_type": "markdown",
   "metadata": {},
   "source": [
    "![sequence-data-2.png](attachment:sequence-data-2.png)"
   ]
  },
  {
   "cell_type": "code",
   "execution_count": null,
   "metadata": {},
   "outputs": [],
   "source": [
    "str1 = \"My name is Wang\""
   ]
  },
  {
   "cell_type": "markdown",
   "metadata": {},
   "source": [
    "###### String Concatenation and Repetition\n",
    " * The + operator concatenates strings and the * operator repeats the items in a string a given number of times."
   ]
  },
  {
   "cell_type": "code",
   "execution_count": null,
   "metadata": {},
   "outputs": [],
   "source": [
    "# string concatenation\n",
    "str1 + '!' "
   ]
  },
  {
   "cell_type": "code",
   "execution_count": null,
   "metadata": {},
   "outputs": [],
   "source": [
    "# string concatenation\n",
    "str1 = str1 + '!'\n",
    "str1"
   ]
  },
  {
   "cell_type": "code",
   "execution_count": null,
   "metadata": {},
   "outputs": [],
   "source": [
    "str1=str1*4\n",
    "print(str1)"
   ]
  },
  {
   "cell_type": "code",
   "execution_count": null,
   "metadata": {},
   "outputs": [],
   "source": [
    "2*2"
   ]
  },
  {
   "cell_type": "markdown",
   "metadata": {},
   "source": [
    "###### Indexing"
   ]
  },
  {
   "cell_type": "code",
   "execution_count": null,
   "metadata": {},
   "outputs": [],
   "source": [
    "# Negative indexing\n",
    "\n",
    "# Last letter #s[-1] of the string\n",
    "str1[-1],str1[-2], str1[-3], str1[-4]"
   ]
  },
  {
   "cell_type": "code",
   "execution_count": null,
   "metadata": {},
   "outputs": [],
   "source": [
    "# Possitive indexing\n",
    "str1[0], str1[1], str1[2], str1[3]"
   ]
  },
  {
   "cell_type": "markdown",
   "metadata": {},
   "source": [
    "###### Slicing\n",
    "* You can return a range of characters by using the slice syntax.\n",
    "\n",
    "* Specify the start index and the end index, separated by a colon, to return a part of the string."
   ]
  },
  {
   "cell_type": "code",
   "execution_count": null,
   "metadata": {},
   "outputs": [],
   "source": [
    "# gives the first 2 characters (regardless of string length)\n",
    "print(str1[:2]) "
   ]
  },
  {
   "cell_type": "code",
   "execution_count": null,
   "metadata": {},
   "outputs": [],
   "source": [
    "#Use negative indexes to start the slice from the end of the string\n",
    "\n",
    "print(str1[-5:-2])"
   ]
  },
  {
   "cell_type": "code",
   "execution_count": null,
   "metadata": {},
   "outputs": [],
   "source": [
    "#Slice from 0 through 3\n",
    "\n",
    "str1[1:4]"
   ]
  },
  {
   "cell_type": "code",
   "execution_count": null,
   "metadata": {},
   "outputs": [],
   "source": [
    "#gives everything except the first 2 characters (regardless of string length)\n",
    "print(str1[2:]) "
   ]
  },
  {
   "cell_type": "code",
   "execution_count": null,
   "metadata": {},
   "outputs": [],
   "source": [
    "#gives the last 2 characters (regardless of string length)\n",
    "print(str1[-2:])"
   ]
  },
  {
   "cell_type": "code",
   "execution_count": null,
   "metadata": {},
   "outputs": [],
   "source": [
    "#gives everything except the last 2 characters (regardless of string length)\n",
    "print(str1[:-2])"
   ]
  },
  {
   "cell_type": "code",
   "execution_count": null,
   "metadata": {},
   "outputs": [],
   "source": [
    "#print(str1)\n",
    "print(str1[:])"
   ]
  },
  {
   "cell_type": "markdown",
   "metadata": {},
   "source": [
    "##### 1.5.3.3 String formating 字符串格式化"
   ]
  },
  {
   "cell_type": "code",
   "execution_count": null,
   "metadata": {},
   "outputs": [],
   "source": [
    "# There are now three main ways to format strings.\n",
    "\n",
    "a = \"Bird\"\n",
    "b = 'Word'\n",
    "\n",
    "#Option 1: %-formatting — Original Python syntax.\n",
    "\n",
    "text2=\"Have you heard? %s is the %s.\" % (a, b)\n",
    "print(text2)\n"
   ]
  },
  {
   "cell_type": "code",
   "execution_count": null,
   "metadata": {},
   "outputs": [],
   "source": [
    "# Option 2: str.format() – Introduced in Python 2.6.\n",
    "\n",
    "\"Have you heard? {} is the {}.\".format(a, b)\n",
    "\n",
    "s = \"Have you heard? {} is the {}.\"\n",
    "s.format(a, b)\n",
    "\n",
    "\"Have you heard? {0} is the {1}.\".format(a, b)\n",
    "\n",
    "\"Have you heard? {animal} is the {thing}.\".format(animal=a, thing=b)\n"
   ]
  },
  {
   "cell_type": "code",
   "execution_count": null,
   "metadata": {},
   "outputs": [],
   "source": [
    "#Option 3: f-strings – Introduced in Python 3.6.\n",
    "\n",
    "print(f\"Have you heard? {a} is the {b}.\")\n",
    "\n",
    "print(f\"Have you heard? {a.upper()} is the {b.upper()}.\")"
   ]
  },
  {
   "cell_type": "markdown",
   "metadata": {},
   "source": [
    "##### Escape Characters\n",
    "These characters are referred to as special characters, it allow you to include special characters in strings."
   ]
  },
  {
   "cell_type": "code",
   "execution_count": null,
   "metadata": {},
   "outputs": [],
   "source": [
    "#Escape Characters\n",
    "\n",
    "#txt = \"We are the so-called \"Vikings\" from the north.\" # invalid\n",
    "\n",
    "txt = \"We are the so-called Vikings\\' from the north.\" \n",
    "print(txt)"
   ]
  },
  {
   "cell_type": "markdown",
   "metadata": {},
   "source": [
    "Other escape characters used in Python:\n",
    "\n",
    "<!-- cell padding-->\n",
    "<table style=\"width:100%\" >\n",
    "\n",
    "<tr>       <th style=\"text-align:left\">Symbol</th>       <th style=\"text-align:left\">Name</th>                 <th style=\"text-align:left\">Example</th>                                      </tr> \n",
    "<tr>       <td style=\"text-align:left\">\\'</td>           <td style=\"text-align:left\">Single Quote</td>         <td style=\"text-align:left\">'It\\'s alright.' </td>                            </tr>\n",
    "<tr>       <td style=\"text-align:left\">\\\\</td>           <td style=\"text-align:left\">Backslash</td>            <td style=\"text-align:left\">\"This will insert one \\\\ (backslash).\"</td>       </tr> \n",
    "<tr>       <td style=\"text-align:left\">\\n</td>           <td style=\"text-align:left\">New Line</td>           <td style=\"text-align:left\">\"Hello\\nWorld!\"</td>                                </tr>       \n",
    "<tr>       <td style=\"text-align:left\">\\t</td>           <td style=\"text-align:left\">Tab </td>                 <td style=\"text-align:left\">\"Hello\\tWorld!\"</td>                              </tr> \n",
    "<tr>       <td style=\"text-align:left\">\\b</td>           <td style=\"text-align:left\">Backspace</td>            <td style=\"text-align:left\">\"Hello \\bWorld!\"</td>                             </tr>  \n",
    "    \n",
    "</table>"
   ]
  },
  {
   "cell_type": "code",
   "execution_count": null,
   "metadata": {},
   "outputs": [],
   "source": [
    "print(\"Hello \\nWorld!\")"
   ]
  },
  {
   "cell_type": "code",
   "execution_count": null,
   "metadata": {},
   "outputs": [],
   "source": [
    "print(\"Hello \\bWorld!\")"
   ]
  },
  {
   "cell_type": "markdown",
   "metadata": {},
   "source": [
    "##### 1.5.4 Type Conversion/ Type Casting\n",
    "\n",
    "You can convert from one type number to another with the int(), float(), and complex() methods:"
   ]
  },
  {
   "cell_type": "code",
   "execution_count": null,
   "metadata": {},
   "outputs": [],
   "source": [
    "intiger_number = 1    # int\n",
    "float_number = 2.8  # float\n",
    "complex_number = 1j   # complex\n",
    "\n",
    "#convert from int to float:\n",
    "n1 = float(intiger_number)\n",
    "\n",
    "#convert from float to int:\n",
    "n2 = int(float_number)\n",
    "\n",
    "#convert from int to complex:\n",
    "n3 = complex(complex_number)\n",
    "\n",
    "print(n1)\n",
    "print(n2)\n",
    "print(n3)\n",
    "\n",
    "print(\"\\n\")\n",
    "\n",
    "print(type(n1))\n",
    "print(type(n2))\n",
    "print(type(n3))"
   ]
  },
  {
   "cell_type": "markdown",
   "metadata": {},
   "source": [
    "### 1.6 Date and Time-日期和时间"
   ]
  },
  {
   "cell_type": "code",
   "execution_count": null,
   "metadata": {},
   "outputs": [],
   "source": [
    "# This is required to include datetime module.\n",
    "\n",
    "from datetime import datetime\n",
    "dt=datetime(2022,11,30,10,8,22)  \n",
    "print(dt)"
   ]
  },
  {
   "cell_type": "code",
   "execution_count": null,
   "metadata": {},
   "outputs": [],
   "source": [
    "dir(dt)"
   ]
  },
  {
   "cell_type": "code",
   "execution_count": null,
   "metadata": {},
   "outputs": [],
   "source": [
    "dt.date()"
   ]
  },
  {
   "cell_type": "code",
   "execution_count": null,
   "metadata": {},
   "outputs": [],
   "source": [
    "dt.time()"
   ]
  },
  {
   "cell_type": "code",
   "execution_count": null,
   "metadata": {},
   "outputs": [],
   "source": [
    "dt.day,dt.month,dt.year"
   ]
  },
  {
   "cell_type": "code",
   "execution_count": null,
   "metadata": {},
   "outputs": [],
   "source": [
    "dt.hour, dt.minute, dt.second"
   ]
  },
  {
   "cell_type": "markdown",
   "metadata": {},
   "source": [
    "#### 1.6.1 Difference of  times can be calculated?"
   ]
  },
  {
   "cell_type": "code",
   "execution_count": null,
   "metadata": {},
   "outputs": [],
   "source": [
    "dt1=datetime(2015,8,2,10,18)\n",
    "dt2=datetime(2014,8,20,0,18,22)\n",
    "dt1-dt2"
   ]
  },
  {
   "cell_type": "markdown",
   "metadata": {},
   "source": [
    "#### Use the strftime method to format datetime as a string:"
   ]
  },
  {
   "cell_type": "code",
   "execution_count": null,
   "metadata": {},
   "outputs": [],
   "source": [
    "dt2.strftime('%m/%d/%Y %H:%M')"
   ]
  },
  {
   "cell_type": "code",
   "execution_count": null,
   "metadata": {},
   "outputs": [],
   "source": [
    "dt1.strftime('%m/%d/%y')"
   ]
  },
  {
   "cell_type": "markdown",
   "metadata": {},
   "source": [
    "#### The string can be converted into a datetime object using the strptime function:"
   ]
  },
  {
   "cell_type": "code",
   "execution_count": null,
   "metadata": {},
   "outputs": [],
   "source": [
    "dt3=datetime.strptime('20150820','%Y%m%d')\n",
    "print(dt3)"
   ]
  },
  {
   "cell_type": "markdown",
   "metadata": {},
   "source": [
    "#### Replace some fields in datetime:"
   ]
  },
  {
   "cell_type": "code",
   "execution_count": null,
   "metadata": {},
   "outputs": [],
   "source": [
    "dt1=dt1.replace(year=2016,hour=12)\n",
    "print(dt1)"
   ]
  },
  {
   "cell_type": "code",
   "execution_count": null,
   "metadata": {},
   "outputs": [],
   "source": [
    "from datetime import *\n",
    "print(date.max)"
   ]
  },
  {
   "cell_type": "code",
   "execution_count": null,
   "metadata": {},
   "outputs": [],
   "source": [
    "print(date.min)"
   ]
  },
  {
   "cell_type": "code",
   "execution_count": null,
   "metadata": {},
   "outputs": [],
   "source": [
    "date.today()"
   ]
  },
  {
   "cell_type": "code",
   "execution_count": null,
   "metadata": {},
   "outputs": [],
   "source": [
    "date.fromtimestamp(1440125565.936352)"
   ]
  },
  {
   "cell_type": "code",
   "execution_count": null,
   "metadata": {},
   "outputs": [],
   "source": [
    "import calendar\n",
    "c=calendar.month(2030,2)"
   ]
  },
  {
   "cell_type": "code",
   "execution_count": null,
   "metadata": {},
   "outputs": [],
   "source": [
    "print (c)"
   ]
  },
  {
   "cell_type": "code",
   "execution_count": null,
   "metadata": {},
   "outputs": [],
   "source": [
    "dir(date)"
   ]
  },
  {
   "cell_type": "code",
   "execution_count": null,
   "metadata": {},
   "outputs": [],
   "source": [
    "date.today()"
   ]
  },
  {
   "cell_type": "markdown",
   "metadata": {},
   "source": [
    "### 1.7 Python Objects\n",
    "\n",
    "* Python is an object oriented programming language.\n",
    "\n",
    "* Almost everything in Python is an object, with its properties and methods.\n",
    "\n",
    "* In section 1.7 \"date\" is a python object, \n",
    "\n",
    "* today() is date-object method(date.today())\n",
    "\n",
    "* date.min, date.max are date-object properties"
   ]
  },
  {
   "cell_type": "markdown",
   "metadata": {},
   "source": [
    "### 1.8 Python Operators-运算符\n",
    "Operators are used to perform operations on variables and values.\n",
    "\n",
    "Python divides the operators in the following groups:\n",
    "\n",
    "Arithmetic operators\n",
    "Assignment operators\n",
    "Comparison operators\n",
    "Logical operators\n",
    "Identity operators\n",
    "Membership operators\n",
    "Bitwise operators"
   ]
  },
  {
   "cell_type": "markdown",
   "metadata": {},
   "source": [
    "####  Operators  precedence\n",
    "Arithmetic operators take precedence over logical operators. Python will always evaluate the arithmetic operators first (** is highest, then multiplication/division, then addition/subtraction). Next comes the relational operators. Finally, the logical operators are done last."
   ]
  },
  {
   "cell_type": "markdown",
   "metadata": {},
   "source": [
    "<table class=\"docutils align-default\">\n",
    "<colgroup>\n",
    "<col style=\"width: 19%\" />\n",
    "<col style=\"width: 39%\" />\n",
    "<col style=\"width: 42%\" />\n",
    "</colgroup>\n",
    "<thead>\n",
    "<tr class=\"row-odd\"><th class=\"head\"><p>Level</p></th>\n",
    "<th class=\"head\"><p>Category</p></th>\n",
    "<th class=\"head\"><p>Operators</p></th>\n",
    "</tr>\n",
    "</thead>\n",
    "<tbody>\n",
    "<tr class=\"row-even\"><td><p>7(high)</p></td>\n",
    "<td><p>exponent</p></td>\n",
    "<td><p>**</p></td>\n",
    "</tr>\n",
    "<tr class=\"row-odd\"><td><p>6</p></td>\n",
    "<td><p>multiplication</p></td>\n",
    "<td><p>*,/,//,%</p></td>\n",
    "</tr>\n",
    "<tr class=\"row-even\"><td><p>5</p></td>\n",
    "<td><p>addition</p></td>\n",
    "<td><p>+,-</p></td>\n",
    "</tr>\n",
    "<tr class=\"row-odd\"><td><p>4</p></td>\n",
    "<td><p>relational</p></td>\n",
    "<td><p>==,!=,&lt;=,&gt;=,&gt;,&lt;</p></td>\n",
    "</tr>\n",
    "<tr class=\"row-even\"><td><p>3</p></td>\n",
    "<td><p>logical</p></td>\n",
    "<td><p>not</p></td>\n",
    "</tr>\n",
    "<tr class=\"row-odd\"><td><p>2</p></td>\n",
    "<td><p>logical</p></td>\n",
    "<td><p>and</p></td>\n",
    "</tr>\n",
    "<tr class=\"row-even\"><td><p>1(low)</p></td>\n",
    "<td><p>logical</p></td>\n",
    "<td><p>or</p></td>\n",
    "</tr>\n",
    "</tbody>\n",
    "</table>"
   ]
  },
  {
   "cell_type": "markdown",
   "metadata": {},
   "source": [
    "#### 1.8.1 Arithematic Operators-算术运算符"
   ]
  },
  {
   "cell_type": "code",
   "execution_count": null,
   "metadata": {},
   "outputs": [],
   "source": [
    "a = 7\n",
    "b = 2\n",
    "\n",
    "# addition\n",
    "print ('Sum: ', a + b)   "
   ]
  },
  {
   "cell_type": "code",
   "execution_count": null,
   "metadata": {},
   "outputs": [],
   "source": [
    "# subtraction\n",
    "print ('Subtraction: ', a - b) "
   ]
  },
  {
   "cell_type": "code",
   "execution_count": null,
   "metadata": {},
   "outputs": [],
   "source": [
    "# multiplication\n",
    "print ('Multiplication: ', a * b) "
   ]
  },
  {
   "cell_type": "code",
   "execution_count": null,
   "metadata": {},
   "outputs": [],
   "source": [
    "# division\n",
    "print ('Division: ', a / b)"
   ]
  },
  {
   "cell_type": "code",
   "execution_count": null,
   "metadata": {},
   "outputs": [],
   "source": [
    "# modulo\n",
    "print ('Modulo: ', a % b) "
   ]
  },
  {
   "cell_type": "code",
   "execution_count": null,
   "metadata": {},
   "outputs": [],
   "source": [
    "# a to the power b\n",
    "print ('Power: ', a ** b)"
   ]
  },
  {
   "cell_type": "markdown",
   "metadata": {},
   "source": [
    "#### 1.8.2 Python Assignment Operators-赋值运算符"
   ]
  },
  {
   "cell_type": "code",
   "execution_count": null,
   "metadata": {},
   "outputs": [],
   "source": [
    "x = 5                # x = 5  \n",
    "print(x)"
   ]
  },
  {
   "cell_type": "code",
   "execution_count": null,
   "metadata": {},
   "outputs": [],
   "source": [
    "x += 3              # x = x + 3\n",
    "print(x)"
   ]
  },
  {
   "cell_type": "code",
   "execution_count": null,
   "metadata": {},
   "outputs": [],
   "source": [
    "x -= 3              # x = x - 3\n",
    "print(x)"
   ]
  },
  {
   "cell_type": "code",
   "execution_count": null,
   "metadata": {},
   "outputs": [],
   "source": [
    "x *= 3              # x = x * 3\n",
    "print(x)"
   ]
  },
  {
   "cell_type": "code",
   "execution_count": null,
   "metadata": {},
   "outputs": [],
   "source": [
    "x /= 3              # x = x / 3\n",
    "print(x)"
   ]
  },
  {
   "cell_type": "code",
   "execution_count": null,
   "metadata": {},
   "outputs": [],
   "source": [
    "x %= 3              # x = x % 3 \n",
    "print(x)"
   ]
  },
  {
   "cell_type": "code",
   "execution_count": null,
   "metadata": {},
   "outputs": [],
   "source": [
    "x **= 3              # x = x ** 3 \n",
    "print(x)"
   ]
  },
  {
   "cell_type": "markdown",
   "metadata": {},
   "source": [
    "#### 1.8.3 Comparison Operators-比较运算符"
   ]
  },
  {
   "cell_type": "code",
   "execution_count": null,
   "metadata": {},
   "outputs": [],
   "source": [
    "a = 5\n",
    "b = 2"
   ]
  },
  {
   "cell_type": "code",
   "execution_count": null,
   "metadata": {},
   "outputs": [],
   "source": [
    "# equal to operator\n",
    "print('a == b =', a == b)"
   ]
  },
  {
   "cell_type": "code",
   "execution_count": null,
   "metadata": {},
   "outputs": [],
   "source": [
    "# not equal to operator\n",
    "print('a != b =', a != b)"
   ]
  },
  {
   "cell_type": "code",
   "execution_count": null,
   "metadata": {},
   "outputs": [],
   "source": [
    "# greater than operator\n",
    "print('a > b =', a > b)"
   ]
  },
  {
   "cell_type": "code",
   "execution_count": null,
   "metadata": {},
   "outputs": [],
   "source": [
    "# less than operator\n",
    "print('a < b =', a < b)"
   ]
  },
  {
   "cell_type": "code",
   "execution_count": null,
   "metadata": {},
   "outputs": [],
   "source": [
    "# greater than or equal to operator\n",
    "print('a >= b =', a >= b)"
   ]
  },
  {
   "cell_type": "code",
   "execution_count": null,
   "metadata": {},
   "outputs": [],
   "source": [
    "# less than or equal to operator\n",
    "print('a <= b =', a <= b)"
   ]
  },
  {
   "cell_type": "markdown",
   "metadata": {},
   "source": [
    "#### 1.8.4 Python Logical Operators-逻辑运算符\n",
    "Logical operators are used to check whether an expression is True or False. They are used in decision-making. For example,"
   ]
  },
  {
   "cell_type": "code",
   "execution_count": null,
   "metadata": {},
   "outputs": [],
   "source": [
    "x=4\n",
    "print(x < 5 and  x < 10)       #and Returns True if both statements are true "
   ]
  },
  {
   "cell_type": "code",
   "execution_count": null,
   "metadata": {},
   "outputs": [],
   "source": [
    "print(x < 5 or x < 4)          #or Returns True if one of the statements is true"
   ]
  },
  {
   "cell_type": "code",
   "execution_count": null,
   "metadata": {},
   "outputs": [],
   "source": [
    "#not Reverse the result, returns False if the result is true\tnot(x < 5 and x < 10)s\n",
    "print(not(x < 5 and x < 10))  "
   ]
  },
  {
   "cell_type": "code",
   "execution_count": null,
   "metadata": {},
   "outputs": [],
   "source": [
    "# logical AND\n",
    "print(True and True)     # True\n",
    "print(True and False)    # False"
   ]
  },
  {
   "cell_type": "code",
   "execution_count": null,
   "metadata": {},
   "outputs": [],
   "source": [
    "# logical OR\n",
    "print(True or False)     # True"
   ]
  },
  {
   "cell_type": "code",
   "execution_count": null,
   "metadata": {},
   "outputs": [],
   "source": [
    "# logical NOT\n",
    "print(not True)          # False"
   ]
  },
  {
   "cell_type": "markdown",
   "metadata": {},
   "source": [
    "#### 1.8.5  Python Identity Operators-身份操作符\n",
    "Identity operators are used to compare the memory location of two objects, especially when both the objects have same name and can be differentiated only using its memory location. There are two Identity operators: **is** and **is not** .\n",
    "Object identity is determined using the **id()** function .\n",
    "* **is** - Returns true if both variables are the same object.\n",
    "* **is not** - Returns true if both variables are not the same object."
   ]
  },
  {
   "attachments": {
    "image-3.png": {
     "image/png": "[encoded data removed]"
    },
    "image-4.png": {
     "image/png": "[encoded data removed]"
    }
   },
   "cell_type": "markdown",
   "metadata": {},
   "source": [
    "![image-3.png](attachment:image-3.png) ![image-4.png](attachment:image-4.png)"
   ]
  },
  {
   "cell_type": "code",
   "execution_count": null,
   "metadata": {},
   "outputs": [],
   "source": [
    "num1 = 101\n",
    "num2 = 101\n",
    "x2 = 'Hello'\n",
    "y2 = 'Hello'\n",
    "x3 = [1,2,3]\n",
    "y3 = [1,2,3]\n",
    "x4={\"one\":1,\"two\":2, \"three\":3}\n",
    "y4={\"one\":1,\"two\":2, \"three\":3}"
   ]
  },
  {
   "cell_type": "markdown",
   "metadata": {},
   "source": [
    "Notice that the **id** for variable **num1** and **num2** is the same, the reason for this is the memory manager in python reuses the objects instead of creating another object for the same data."
   ]
  },
  {
   "cell_type": "code",
   "execution_count": null,
   "metadata": {},
   "outputs": [],
   "source": [
    "print(id(num1))\n",
    "print(id(num2))\n",
    "print(num1 is  num2)  # prints True"
   ]
  },
  {
   "cell_type": "code",
   "execution_count": null,
   "metadata": {},
   "outputs": [],
   "source": [
    "num1 += 1"
   ]
  },
  {
   "cell_type": "code",
   "execution_count": null,
   "metadata": {},
   "outputs": [],
   "source": [
    "print(id(num1))\n",
    "print(id(num2))\n",
    "print(num1 is  num2)  # prints False"
   ]
  },
  {
   "cell_type": "code",
   "execution_count": null,
   "metadata": {},
   "outputs": [],
   "source": [
    "print(id(x2))\n",
    "print(id(y2))\n",
    "print(x2 is y2)  # prints True"
   ]
  },
  {
   "cell_type": "code",
   "execution_count": null,
   "metadata": {},
   "outputs": [],
   "source": [
    "print(id(x3))\n",
    "print(id(y3))\n",
    "print(x3 is y3)  # prints False"
   ]
  },
  {
   "cell_type": "code",
   "execution_count": null,
   "metadata": {},
   "outputs": [],
   "source": [
    "print(id(x4))\n",
    "print(id(y4))\n",
    "print(x4 is y4)  # prints False"
   ]
  },
  {
   "cell_type": "code",
   "execution_count": null,
   "metadata": {},
   "outputs": [],
   "source": [
    "x4=y4\n",
    "print(id(x4))\n",
    "print(id(y4))\n",
    "print(x4 is y4)  # prints true"
   ]
  },
  {
   "cell_type": "markdown",
   "metadata": {},
   "source": [
    "#### 1.8.6 Python Membership Operators-成员运算符"
   ]
  },
  {
   "cell_type": "code",
   "execution_count": null,
   "metadata": {},
   "outputs": [],
   "source": [
    "message = 'Hello world'\n",
    "dict1 = {1:'a', 2:'b'}\n",
    "\n",
    "# check if 'a' key is present in dict1\n",
    "print(1 in dict1)  # prints False"
   ]
  },
  {
   "cell_type": "code",
   "execution_count": null,
   "metadata": {},
   "outputs": [],
   "source": [
    "# check if 'H' is present in message string\n",
    "print('H' in message)  # prints True"
   ]
  },
  {
   "cell_type": "code",
   "execution_count": null,
   "metadata": {},
   "outputs": [],
   "source": [
    "# check if 'hello' is present in message string\n",
    "print('Hello' not in message)  # prints True"
   ]
  },
  {
   "cell_type": "code",
   "execution_count": null,
   "metadata": {},
   "outputs": [],
   "source": [
    "# check if '1' key is present in dict1\n",
    "print(1 in dict1)  # prints True"
   ]
  },
  {
   "cell_type": "markdown",
   "metadata": {},
   "source": [
    "### 1.9 Lines and indentation\n",
    "\n",
    "* Indentation refers to the spaces at the beginning of a code line, indentation in Python is very important.\n",
    "* Python uses indentation to indicate a block of code.\n",
    "* Python uses four spaces as default indentation spaces.\n",
    "* However, the number of spaces can be anything; it is up to the user. \n",
    "* But a minimum of one space is needed to indent a statement.\n"
   ]
  },
  {
   "cell_type": "code",
   "execution_count": null,
   "metadata": {},
   "outputs": [],
   "source": [
    "# indentation example\n",
    "m=2\n",
    "n=3\n",
    "if m<n:\n",
    " # indentation\n",
    "        print(f\"{m} is smaller than {n}\")\n",
    "    \n",
    "# Everyting in this if-statement is part of the same code-block\n",
    "if m!=n:\n",
    "    # body of this if-statement must have the same level of indentation\n",
    "         print(f\"{m} is not equal to  {n}\")\n",
    "         print(\"python indentation example\")\n",
    "    "
   ]
  },
  {
   "cell_type": "markdown",
   "metadata": {},
   "source": [
    "### 1.10 Special Commands\n",
    "\n"
   ]
  },
  {
   "cell_type": "markdown",
   "metadata": {},
   "source": [
    "#### Method 1: sys"
   ]
  },
  {
   "cell_type": "code",
   "execution_count": null,
   "metadata": {},
   "outputs": [],
   "source": [
    "import sys"
   ]
  },
  {
   "cell_type": "code",
   "execution_count": null,
   "metadata": {},
   "outputs": [],
   "source": [
    "sys.version\n",
    "# A string containing the version number of the Python interpreter"
   ]
  },
  {
   "cell_type": "markdown",
   "metadata": {},
   "source": [
    "#### Method 2: platform"
   ]
  },
  {
   "cell_type": "code",
   "execution_count": null,
   "metadata": {},
   "outputs": [],
   "source": [
    "import platform\n",
    "\n",
    "# The platform module in Python provides functions that access information of the underlying platform (operating system)"
   ]
  },
  {
   "cell_type": "code",
   "execution_count": null,
   "metadata": {
    "scrolled": true
   },
   "outputs": [],
   "source": [
    "platform.python_version()"
   ]
  },
  {
   "cell_type": "code",
   "execution_count": null,
   "metadata": {
    "scrolled": true
   },
   "outputs": [],
   "source": [
    "platform.version()"
   ]
  },
  {
   "cell_type": "markdown",
   "metadata": {},
   "source": [
    "#### About Magic Commands\n",
    "\n",
    "IPython’s special commands (which are not built into Python itself) are known as“magic” commands. These are designed to facilitate common tasks and enable you to easily control the behavior of the IPython system."
   ]
  },
  {
   "cell_type": "code",
   "execution_count": null,
   "metadata": {},
   "outputs": [],
   "source": [
    "!pip install version_information"
   ]
  },
  {
   "cell_type": "code",
   "execution_count": null,
   "metadata": {},
   "outputs": [],
   "source": [
    "# first install: pip install version_information\n",
    "\n",
    "%version_information  numpy, platform"
   ]
  },
  {
   "cell_type": "markdown",
   "metadata": {},
   "source": [
    "#### Getting help (or use IPython and tab-complete!)"
   ]
  },
  {
   "cell_type": "code",
   "execution_count": null,
   "metadata": {},
   "outputs": [],
   "source": [
    "S=\"Hello World!\"\n",
    "dir(S)\n",
    "# Using a question mark (?) before or after a variable will display some general infor‐mation about the object\n",
    "#S.find(\"llo\")\n",
    "S.find?"
   ]
  },
  {
   "cell_type": "code",
   "execution_count": null,
   "metadata": {},
   "outputs": [],
   "source": [
    "# list all the variables in the workspace\n",
    "%whos"
   ]
  },
  {
   "cell_type": "markdown",
   "metadata": {},
   "source": [
    "#### Use of Tab-key\n",
    "While entering expressions in the shell, pressing the Tab key will search the namespace for any variables (objects,functions, etc.) matching the characters you have typed so far:"
   ]
  },
  {
   "cell_type": "markdown",
   "metadata": {},
   "source": [
    "### Magic command-魔术命令"
   ]
  },
  {
   "cell_type": "markdown",
   "metadata": {},
   "source": [
    "#### The %run Command\n",
    "\n",
    "You can run any file as a Python program inside the environment of your IPython session using the %run command."
   ]
  },
  {
   "cell_type": "code",
   "execution_count": null,
   "metadata": {},
   "outputs": [],
   "source": [
    "%magic"
   ]
  },
  {
   "cell_type": "code",
   "execution_count": null,
   "metadata": {},
   "outputs": [],
   "source": [
    "%run test.py"
   ]
  },
  {
   "cell_type": "code",
   "execution_count": null,
   "metadata": {},
   "outputs": [],
   "source": [
    "%load D:\\\\Teaching\\\\data_analysis\\\\4-7\\\\test.py           "
   ]
  },
  {
   "cell_type": "code",
   "execution_count": null,
   "metadata": {},
   "outputs": [],
   "source": [
    "#Magic command time is used to measure the time of code execution\n",
    "%time pow(100,10)"
   ]
  },
  {
   "cell_type": "code",
   "execution_count": null,
   "metadata": {},
   "outputs": [],
   "source": [
    "%pwd"
   ]
  },
  {
   "cell_type": "code",
   "execution_count": 1,
   "metadata": {},
   "outputs": [
    {
     "name": "stdout",
     "output_type": "stream",
     "text": [
      "􁧗􁬌􀙁􀨁􀾮:Zakir\n",
      "􀥟􀙟􀨁􀾮1\n",
      "􀩜􀙟􀨁􀾮4\n"
     ]
    }
   ],
   "source": [
    "import re\n",
    "str1=input(\"􁧗􁬌􀙁􀨁􀾮:\")\n",
    "str1_Alp1=re.findall(r'[A-Z]',str1)\n",
    "str1_Alp2=re.findall(r'[a-z]',str1)\n",
    "print(\"􀥟􀙟􀨁􀾮{}\".format(len(str1_Alp1)))\n",
    "print(\"􀩜􀙟􀨁􀾮{}\".format(len(str1_Alp2)))"
   ]
  },
  {
   "cell_type": "code",
   "execution_count": null,
   "metadata": {},
   "outputs": [],
   "source": []
  }
 ],
 "metadata": {
  "anaconda-cloud": {},
  "kernelspec": {
   "display_name": "Python 3 (ipykernel)",
   "language": "python",
   "name": "python3"
  },
  "language_info": {
   "codemirror_mode": {
    "name": "ipython",
    "version": 3
   },
   "file_extension": ".py",
   "mimetype": "text/x-python",
   "name": "python",
   "nbconvert_exporter": "python",
   "pygments_lexer": "ipython3",
   "version": "3.11.0"
  }
 },
 "nbformat": 4,
 "nbformat_minor": 1
}
