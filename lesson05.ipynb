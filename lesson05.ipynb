{
 "cells": [
  {
   "cell_type": "markdown",
   "metadata": {},
   "source": [
    "<h2> Lesson-05: Iterators, Generators & Decorators</h2>\n",
    "\n",
    "An iterator is an object that contains a countable number of values, \n",
    "it can be iterated upon, meaning that you can traverse through all the values.\n",
    "\n",
    "Technically, in Python, an iterator is an object which implements the **iterator protocol**, which consist of the methods`__iter__()` and `__next__()`."
   ]
  },
  {
   "cell_type": "markdown",
   "metadata": {},
   "source": [
    "<h3> Iterator vs Iterable </h3>\n",
    "\n",
    "Lists, tuples, dictionaries, and sets are all iterable objects. They are iterable containers which you can get an iterator from.\n",
    "\n",
    "All these objects have a **iter()** method which is used to get an iterator:"
   ]
  },
  {
   "attachments": {
    "image.png": {
     "image/png": "[encoded data removed]"
    }
   },
   "cell_type": "markdown",
   "metadata": {},
   "source": [
    "![image.png](attachment:image.png)"
   ]
  },
  {
   "cell_type": "code",
   "execution_count": null,
   "metadata": {},
   "outputs": [],
   "source": [
    "num1=2034\n",
    "num1[0]"
   ]
  },
  {
   "cell_type": "code",
   "execution_count": null,
   "metadata": {},
   "outputs": [],
   "source": [
    "dir(num1)"
   ]
  },
  {
   "cell_type": "code",
   "execution_count": null,
   "metadata": {},
   "outputs": [],
   "source": [
    "it=iter(num1)"
   ]
  },
  {
   "cell_type": "code",
   "execution_count": null,
   "metadata": {},
   "outputs": [],
   "source": [
    "mystr = \"banana\"   #iterable\n",
    "mystr[0]"
   ]
  },
  {
   "cell_type": "code",
   "execution_count": null,
   "metadata": {},
   "outputs": [],
   "source": [
    "dir(mystr)"
   ]
  },
  {
   "cell_type": "code",
   "execution_count": null,
   "metadata": {},
   "outputs": [],
   "source": [
    "it=iter(mystr)   #iter() convert mystr into an iterator"
   ]
  },
  {
   "cell_type": "markdown",
   "metadata": {},
   "source": [
    "<h3> Iterating through an Iterator</h3>\n",
    "\n",
    "We use the **`next()`** function to manually iterate through all the items of an iterator. When we reach the end and there is no more data to be returned, it will raise the **`StopIteration`** Exception. Following is an example."
   ]
  },
  {
   "cell_type": "code",
   "execution_count": null,
   "metadata": {},
   "outputs": [],
   "source": [
    "#myit = iter(mystr)\n",
    "myit = mystr.__iter__()   # myit is an iterator"
   ]
  },
  {
   "cell_type": "code",
   "execution_count": null,
   "metadata": {},
   "outputs": [],
   "source": [
    "print(next(myit))"
   ]
  },
  {
   "cell_type": "code",
   "execution_count": null,
   "metadata": {},
   "outputs": [],
   "source": [
    "print(next(myit))"
   ]
  },
  {
   "cell_type": "code",
   "execution_count": null,
   "metadata": {},
   "outputs": [],
   "source": [
    "print(next(myit))"
   ]
  },
  {
   "cell_type": "code",
   "execution_count": null,
   "metadata": {},
   "outputs": [],
   "source": [
    "print(next(myit))"
   ]
  },
  {
   "cell_type": "code",
   "execution_count": null,
   "metadata": {},
   "outputs": [],
   "source": [
    "print(next(myit))"
   ]
  },
  {
   "cell_type": "code",
   "execution_count": null,
   "metadata": {},
   "outputs": [],
   "source": [
    "print(next(myit))"
   ]
  },
  {
   "cell_type": "code",
   "execution_count": null,
   "metadata": {},
   "outputs": [],
   "source": [
    "print(next(myit))"
   ]
  },
  {
   "cell_type": "code",
   "execution_count": null,
   "metadata": {},
   "outputs": [],
   "source": [
    "mytuple = (\"apple\", \"banana\", \"cherry\")  "
   ]
  },
  {
   "cell_type": "code",
   "execution_count": null,
   "metadata": {},
   "outputs": [],
   "source": [
    "myit = iter(mytuple) # iter() will conver mytuple into an iterator\n",
    "dir(myit)"
   ]
  },
  {
   "cell_type": "code",
   "execution_count": null,
   "metadata": {},
   "outputs": [],
   "source": [
    "print(next(myit))"
   ]
  },
  {
   "cell_type": "code",
   "execution_count": null,
   "metadata": {},
   "outputs": [],
   "source": [
    "print(next(myit))"
   ]
  },
  {
   "cell_type": "code",
   "execution_count": null,
   "metadata": {},
   "outputs": [],
   "source": [
    "print(next(myit))"
   ]
  },
  {
   "cell_type": "code",
   "execution_count": null,
   "metadata": {},
   "outputs": [],
   "source": [
    "print(next(myit))"
   ]
  },
  {
   "cell_type": "code",
   "execution_count": null,
   "metadata": {
    "ExecuteTime": {
     "end_time": "2021-06-22T05:59:09.342273Z",
     "start_time": "2021-06-22T05:59:08.896940Z"
    }
   },
   "outputs": [],
   "source": [
    "#iterating through a list   \n",
    "# define a list\n",
    "my_list = [6, 9, 0, 3]  # 4 elements\n",
    "\n",
    "# get an iterator using iter()\n",
    "my_iter = iter(my_list)"
   ]
  },
  {
   "cell_type": "code",
   "execution_count": null,
   "metadata": {},
   "outputs": [],
   "source": [
    "# iterate through it using next()\n",
    "\n",
    "print(next(my_iter))       # Output: 6"
   ]
  },
  {
   "cell_type": "code",
   "execution_count": null,
   "metadata": {},
   "outputs": [],
   "source": [
    "print(next(my_iter))       # Output: 9"
   ]
  },
  {
   "cell_type": "code",
   "execution_count": null,
   "metadata": {},
   "outputs": [],
   "source": [
    "# next(obj) is same as obj.__next__()\n",
    "\n",
    "print(my_iter.__next__())  # Output: 0"
   ]
  },
  {
   "cell_type": "code",
   "execution_count": null,
   "metadata": {},
   "outputs": [],
   "source": [
    "print(my_iter.__next__())  # Output: 3"
   ]
  },
  {
   "cell_type": "code",
   "execution_count": null,
   "metadata": {},
   "outputs": [],
   "source": [
    "# This will raise error, no items left\n",
    "next(my_iter)"
   ]
  },
  {
   "cell_type": "markdown",
   "metadata": {},
   "source": [
    "We can use `for loop` to  iterate over an iterable object that can return an iterator, for example list, string, file etc."
   ]
  },
  {
   "cell_type": "code",
   "execution_count": null,
   "metadata": {
    "ExecuteTime": {
     "end_time": "2021-06-22T05:59:13.861477Z",
     "start_time": "2021-06-22T05:59:13.849761Z"
    }
   },
   "outputs": [],
   "source": [
    "for element in my_list:  # create a function\n",
    "    print(element)"
   ]
  },
  {
   "cell_type": "markdown",
   "metadata": {},
   "source": [
    "<h3> Working  with Iterators using for loop</h3>\n",
    "\n",
    "As we see in the above example, the **for loop** was able to iterate automatically through the list.\n",
    "\n",
    "In fact the **`for`** loop can iterate over any iterable. Let's take a closer look at how the **`for`** is actually implemented in Python.\n",
    "\n",
    "\n",
    "\n",
    "So internally, the **`for`** loop creates an iterator object, **`iter_obj`** by calling **`iter()`** on the iterable.\n",
    "\n",
    "Inside the loop, it calls **`next()`** to get the next element and executes the body of the **`for`** loop with this value. After all the items exhaust, **`StopIteration`** is raised which is internally caught and the loop ends. "
   ]
  },
  {
   "cell_type": "markdown",
   "metadata": {},
   "source": [
    "<h2> Python  Generators</h2>\n",
    "\n",
    "In this section, you'll learn how to create iterators easily using Python generators, how it is different from iterators and normal functions, and why you should use it."
   ]
  },
  {
   "cell_type": "markdown",
   "metadata": {},
   "source": [
    "<h3> Generators in Python</h3>\n",
    "\n",
    "There is a lot of work in building an **iterator** in Python. We have to implement a generator with **`__iter__()`** and **`__next__()`** method, keep track of internal states, and raise **`StopIteration`** when there are no values to be returned.\n",
    "\n",
    "Python generators are a simple way of creating iterators. All the work we mentioned above is automatically handled by generators in Python.\n",
    "\n",
    "Simply speaking, a generator is a function that returns an object (iterator) which we can iterate over (one value at a time)."
   ]
  },
  {
   "cell_type": "markdown",
   "metadata": {},
   "source": [
    "<h3> Create Generators in Python</h3>\n",
    "\n",
    "It is fairly simple to create a generator in Python. It is as easy as defining a normal function, but with a **`yield`** statement instead of a **`return`** statement.\n",
    "\n",
    "If a function contains at least one **`yield`** statement (it may contain other **`yield`** or **`return`** statements), it becomes a generator function. Both **`yield`** and **`return`** will return some value from a function.\n",
    "\n",
    "The difference is that while a **`return`** statement terminates a function entirely, **`yield`** statement pauses the function saving all its states and later continues from there on successive calls."
   ]
  },
  {
   "attachments": {
    "image.png": {
     "image/png": "[encoded data removed]"
    }
   },
   "cell_type": "markdown",
   "metadata": {},
   "source": [
    "![image.png](attachment:image.png)"
   ]
  },
  {
   "cell_type": "code",
   "execution_count": null,
   "metadata": {},
   "outputs": [],
   "source": [
    "def reg_foo():\n",
    "    return [x for x in range(1,6)]\n",
    "print(reg_foo())"
   ]
  },
  {
   "cell_type": "code",
   "execution_count": null,
   "metadata": {},
   "outputs": [],
   "source": [
    "def gen_foo():\n",
    "    yield(1)\n",
    "    yield(2)\n",
    "    yield(3)\n",
    "    yield(4)\n",
    "    yield(5)"
   ]
  },
  {
   "cell_type": "code",
   "execution_count": null,
   "metadata": {},
   "outputs": [],
   "source": [
    "g=gen_foo()"
   ]
  },
  {
   "cell_type": "code",
   "execution_count": null,
   "metadata": {},
   "outputs": [],
   "source": [
    "next(g)"
   ]
  },
  {
   "cell_type": "code",
   "execution_count": null,
   "metadata": {},
   "outputs": [],
   "source": [
    "next(g)"
   ]
  },
  {
   "cell_type": "code",
   "execution_count": null,
   "metadata": {},
   "outputs": [],
   "source": [
    "next(g)"
   ]
  },
  {
   "cell_type": "code",
   "execution_count": null,
   "metadata": {},
   "outputs": [],
   "source": [
    "next(g)"
   ]
  },
  {
   "cell_type": "code",
   "execution_count": null,
   "metadata": {},
   "outputs": [],
   "source": [
    "next(g)"
   ]
  },
  {
   "cell_type": "code",
   "execution_count": null,
   "metadata": {},
   "outputs": [],
   "source": [
    "next(g)"
   ]
  },
  {
   "cell_type": "markdown",
   "metadata": {},
   "source": [
    "<h3> Generator function vs Normal function</h3>\n",
    "\n",
    "Here is how a generator function differs from a normal **function**.\n",
    "\n",
    "1. Generator function contains one or more **`yield`** statements.\n",
    "2. When called, it returns an object (iterator) but does not start execution immediately.\n",
    "3. Methods like **`__iter__()`** and **`__next__()`** are implemented automatically. So we can iterate through the items using **`next()`**.\n",
    "4. Once the function yields, the function is paused and the control is transferred to the caller.\n",
    "5. Local variables and their states are remembered between successive calls.\n",
    "6. Finally, when the function terminates, **`StopIteration`** is raised automatically on further calls."
   ]
  },
  {
   "attachments": {
    "image-2.png": {
     "image/png": "[encoded data removed]"
    }
   },
   "cell_type": "markdown",
   "metadata": {},
   "source": [
    "![image-2.png](attachment:image-2.png)"
   ]
  },
  {
   "cell_type": "markdown",
   "metadata": {},
   "source": [
    "Here is an example to illustrate all of the points stated above. We have a generator function named **`my_gen()`** with several **`yield`** statements."
   ]
  },
  {
   "cell_type": "code",
   "execution_count": null,
   "metadata": {},
   "outputs": [],
   "source": [
    "# A simple generator function\n",
    "def my_gen():\n",
    "     n = 1\n",
    "     print('This is printed first')\n",
    "# Generator function contains yield statements\n",
    "     yield n\n",
    "\n",
    "     n += 1\n",
    "     print('This is printed second')\n",
    "     yield n\n",
    "\n",
    "     n += 1\n",
    "     print('This is printed at last')\n",
    "     yield n"
   ]
  },
  {
   "cell_type": "markdown",
   "metadata": {},
   "source": [
    "An interactive run in the interpreter is given below. Run these in the Python shell to see the output."
   ]
  },
  {
   "cell_type": "code",
   "execution_count": null,
   "metadata": {},
   "outputs": [],
   "source": [
    "# It returns an object but does not start execution immediately.\n",
    "a = my_gen()"
   ]
  },
  {
   "cell_type": "code",
   "execution_count": null,
   "metadata": {},
   "outputs": [],
   "source": [
    "# We can iterate through the items using next().\n",
    "next(a)"
   ]
  },
  {
   "cell_type": "code",
   "execution_count": null,
   "metadata": {},
   "outputs": [],
   "source": [
    "# Once the function yields, the function is paused and the control is transferred to the caller.\n",
    "\n",
    "# Local variables and theirs states are remembered between successive calls.\n",
    "next(a)"
   ]
  },
  {
   "cell_type": "code",
   "execution_count": null,
   "metadata": {},
   "outputs": [],
   "source": [
    "next(a)"
   ]
  },
  {
   "cell_type": "code",
   "execution_count": null,
   "metadata": {},
   "outputs": [],
   "source": [
    "# Finally, when the function terminates, \n",
    "#StopIteration is raised automatically on further calls.\n",
    "next(a)"
   ]
  },
  {
   "cell_type": "markdown",
   "metadata": {},
   "source": [
    "One interesting thing to note in the above example is that the value of variable **`n`** is remembered between each call.\n",
    "\n",
    "Unlike normal functions, the local variables are not destroyed when the function yields. Furthermore, the generator object can be iterated only once.\n",
    "\n",
    "To restart the process we need to create another generator object using something like **`a = my_gen()`**.\n",
    "\n",
    "One final thing to note is that we can use generators with **for loop** directly.\n",
    "\n",
    "This is because a **`for`** loop takes an iterator and iterates over it using **`next()`** function. It automatically ends when **`StopIteration`** is raised. Check here to **know how a for loop is actually implemented in Python**."
   ]
  },
  {
   "cell_type": "code",
   "execution_count": null,
   "metadata": {},
   "outputs": [],
   "source": [
    "# A simple generator function\n",
    "\n",
    "def my_gen():\n",
    "    n = 1\n",
    "    print('This is printed first')\n",
    "    # Generator function contains yield statements\n",
    "    yield n\n",
    "\n",
    "    n += 1\n",
    "    print('This is printed second')\n",
    "    yield n\n",
    "\n",
    "    n += 1\n",
    "    print('This is printed at last')\n",
    "    yield n"
   ]
  },
  {
   "cell_type": "code",
   "execution_count": null,
   "metadata": {},
   "outputs": [],
   "source": [
    "# Using for loop\n",
    "for item in my_gen():\n",
    "    print(item)"
   ]
  },
  {
   "cell_type": "markdown",
   "metadata": {},
   "source": [
    "<h3>Python Generators with a Loop</h3>\n",
    "\n",
    "The above example is of less use and we studied it just to get an idea of what was happening in the background.\n",
    "\n",
    "Normally, generator functions are implemented with a loop having a suitable terminating condition.\n",
    "\n",
    "Let's take an example of a generator."
   ]
  },
  {
   "cell_type": "code",
   "execution_count": null,
   "metadata": {},
   "outputs": [],
   "source": [
    "def print_n(n):\n",
    "    for i in range(1, n+1):\n",
    "        yield i"
   ]
  },
  {
   "cell_type": "code",
   "execution_count": null,
   "metadata": {},
   "outputs": [],
   "source": [
    "# For loop to print the numbers\n",
    "for j in print_n(10):\n",
    "    print(j)"
   ]
  },
  {
   "cell_type": "markdown",
   "metadata": {},
   "source": [
    "<h3> Python Generator Expression</h3>\n",
    "\n",
    "Simple generators can be easily created  using generator expressions. It makes building generators easy.\n",
    "\n",
    "Similar to the lambda functions which create **anonymous functions**, generator expressions create **anonymous generator functions**.\n",
    "\n",
    "The syntax for generator expression is similar to that of a **list comprehension in Python**. But the square brackets are replaced with round parentheses.\n",
    "\n",
    "The major difference between a list comprehension and a generator expression is that a list comprehension produces the entire list while the generator expression produces one item at a time.\n",
    "\n",
    "They have lazy execution ( producing items only when asked for ). For this reason, a generator expression is much more memory efficient than an equivalent list comprehension."
   ]
  },
  {
   "cell_type": "code",
   "execution_count": null,
   "metadata": {},
   "outputs": [],
   "source": [
    "# Initialize the list\n",
    "my_list = [1, 3, 6, 10]\n",
    "\n",
    "# square each term using list comprehension\n",
    "list_ = [x**2 for x in my_list]"
   ]
  },
  {
   "cell_type": "code",
   "execution_count": null,
   "metadata": {},
   "outputs": [],
   "source": [
    "print(list_)"
   ]
  },
  {
   "cell_type": "code",
   "execution_count": null,
   "metadata": {},
   "outputs": [],
   "source": [
    "# same thing can be done using a generator expression\n",
    "# generator expressions are surrounded by parenthesis ()\n",
    "generator = (x**2 for x in my_list)"
   ]
  },
  {
   "cell_type": "code",
   "execution_count": null,
   "metadata": {},
   "outputs": [],
   "source": [
    "next(generator)"
   ]
  },
  {
   "cell_type": "code",
   "execution_count": null,
   "metadata": {},
   "outputs": [],
   "source": [
    "next(generator)"
   ]
  },
  {
   "cell_type": "markdown",
   "metadata": {},
   "source": [
    "We can see above that the generator expression did not produce the required result immediately. Instead, it returned a generator object, which produces items only on demand.\n",
    "\n",
    "Here is how we can start getting items from the generator:"
   ]
  },
  {
   "cell_type": "code",
   "execution_count": null,
   "metadata": {},
   "outputs": [],
   "source": [
    "# Initialize the list\n",
    "my_list = [1, 3, 6, 10]\n",
    "\n",
    "a = (x**2 for x in my_list)"
   ]
  },
  {
   "cell_type": "code",
   "execution_count": null,
   "metadata": {},
   "outputs": [],
   "source": [
    "next(a)"
   ]
  },
  {
   "cell_type": "code",
   "execution_count": null,
   "metadata": {},
   "outputs": [],
   "source": [
    "next(a)"
   ]
  },
  {
   "cell_type": "code",
   "execution_count": null,
   "metadata": {},
   "outputs": [],
   "source": [
    "next(a)"
   ]
  },
  {
   "cell_type": "code",
   "execution_count": null,
   "metadata": {},
   "outputs": [],
   "source": [
    "next(a)"
   ]
  },
  {
   "cell_type": "code",
   "execution_count": null,
   "metadata": {},
   "outputs": [],
   "source": [
    "next(a)"
   ]
  },
  {
   "cell_type": "markdown",
   "metadata": {},
   "source": [
    "Generator expressions can be used as function arguments. When used in such a way, the round parentheses can be dropped."
   ]
  },
  {
   "cell_type": "code",
   "execution_count": null,
   "metadata": {},
   "outputs": [],
   "source": [
    "sum((x**2 for x in my_list))"
   ]
  },
  {
   "cell_type": "code",
   "execution_count": null,
   "metadata": {},
   "outputs": [],
   "source": [
    "max(x**2 for x in my_list)"
   ]
  },
  {
   "cell_type": "markdown",
   "metadata": {},
   "source": [
    "<h3> Use of Python Generators</h3>\n",
    "\n",
    "There are several reasons that make generators a powerful implementation."
   ]
  },
  {
   "cell_type": "markdown",
   "metadata": {},
   "source": [
    "<h3>1. Easy to Implement</h3>\n",
    "\n",
    "Generators can be implemented in a clear and concise way as compared to their iterator class counterpart. Following is an example to implement a sequence of power of 2 using an iterator class.\n",
    "\n",
    "```python\n",
    ">>> class PowTwo:\n",
    ">>>     def __init__(self, max=0):\n",
    ">>>         self.n = 0\n",
    ">>>         self.max = max\n",
    "\n",
    ">>>     def __iter__(self):\n",
    ">>>         return self\n",
    "\n",
    ">>>     def __next__(self):\n",
    ">>>         if self.n > self.max:\n",
    ">>>             raise StopIteration\n",
    "\n",
    ">>>         result = 2 ** self.n\n",
    ">>>         self.n += 1\n",
    ">>>         return result\n",
    "```\n",
    "\n",
    "The above program was lengthy and confusing. Now, let's do the same using a generator function.\n",
    "\n",
    "```python\n",
    ">>> def PowTwoGen(max=0):\n",
    ">>>     n = 0\n",
    ">>>     while n < max:\n",
    ">>>         yield 2 ** n\n",
    ">>>         n += 1\n",
    "```\n",
    "\n",
    "Since generators keep track of details automatically, the implementation was concise and much cleaner."
   ]
  },
  {
   "cell_type": "markdown",
   "metadata": {},
   "source": [
    "<h3> 2. Memory Efficient</h3>\n",
    "\n",
    "A normal function to return a sequence will create the entire sequence in memory before returning the result. This is an overkill, if the number of items in the sequence is very large.\n",
    "\n",
    "Generator implementation of such sequences is memory friendly and is preferred since it only produces one item at a time."
   ]
  },
  {
   "cell_type": "markdown",
   "metadata": {},
   "source": [
    "<h3> 3. Represent Infinite Stream</h3>\n",
    "\n",
    "Generators are excellent mediums to represent an infinite stream of data. Infinite streams cannot be stored in memory, and since generators produce only one item at a time, they can represent an infinite stream of data.\n",
    "\n",
    "The following generator function can generate all the even numbers (at least in theory).\n",
    "\n",
    "```python\n",
    ">>> def all_even():\n",
    ">>>     n = 0\n",
    ">>>     while True:\n",
    ">>>         yield n\n",
    ">>>         n += 2\n",
    "```"
   ]
  },
  {
   "cell_type": "markdown",
   "metadata": {},
   "source": [
    "<h3> 4. Pipelining Generators</h3>\n",
    "\n",
    "Multiple generators can be used to pipeline a series of operations. This is best illustrated using an example.\n",
    "\n",
    "Suppose we have a generator that produces even numbers. And we have another generator for squaring numbers.\n",
    "\n",
    "If we want to find out the sum of squares of these even numbers, we can do it in the following way by pipelining the output of generator functions together."
   ]
  },
  {
   "cell_type": "code",
   "execution_count": null,
   "metadata": {},
   "outputs": [],
   "source": [
    "def even_numbers(nums):\n",
    "    for x in range(nums):\n",
    "        if x%2==0:\n",
    "            yield x\n",
    "\n",
    "def square(nums):\n",
    "    for num in nums:\n",
    "        yield num**2"
   ]
  },
  {
   "cell_type": "code",
   "execution_count": null,
   "metadata": {},
   "outputs": [],
   "source": [
    "print(sum(square(even_numbers(20))))"
   ]
  },
  {
   "cell_type": "markdown",
   "metadata": {},
   "source": [
    "This pipelining is efficient and easy to read (and yes, a lot cooler!)."
   ]
  },
  {
   "cell_type": "markdown",
   "metadata": {},
   "source": [
    "<h2> Python Decorators</h2>\n",
    "\n",
    "A decorator takes in a function, adds some functionality and returns it. In this tutorial, you will learn how you can create a decorator and why you should use it."
   ]
  },
  {
   "attachments": {
    "image-4.png": {
     "image/png": "[encoded data removed]"
    }
   },
   "cell_type": "markdown",
   "metadata": {},
   "source": [
    "![image-4.png](attachment:image-4.png)"
   ]
  },
  {
   "cell_type": "markdown",
   "metadata": {},
   "source": [
    "<h3> Decorators in Python</h3>\n",
    "\n",
    "A **decorator** is a design pattern in Python that allows a user to add new functionality to an existing object without modifying its structure. Decorators are usually called before the definition of a function you want to decorate."
   ]
  },
  {
   "cell_type": "markdown",
   "metadata": {},
   "source": [
    "<h3> Prerequisites for learning decorators</h3>\n",
    "\n",
    "As we have studied in  chapter-01, that almost everything in Python  are **objects**. Names that we define are simply identifiers bound to these objects. **Functions** are no exceptions, they are objects too. Various different names can be bound to the same function object.\n",
    "\n",
    "For example:"
   ]
  },
  {
   "cell_type": "code",
   "execution_count": null,
   "metadata": {},
   "outputs": [],
   "source": [
    "def first(msg):\n",
    "    print(msg)\n",
    "\n",
    "\n",
    "    \n",
    "\n",
    "first(\"Hello\")\n",
    "\n",
    "second = first\n",
    "second(\"Hello\")"
   ]
  },
  {
   "cell_type": "markdown",
   "metadata": {},
   "source": [
    "When you run the code, both functions **`first`** and **`second`** give the same output. Here, the names **`first`** and **`second`** refer to the same function object.\n",
    "\n",
    "As we already studied that Functions can be passed as arguments to another function.\n",
    "\n",
    "Such functions that take other functions as arguments are also called **higher order functions**. Here is an example of such a function."
   ]
  },
  {
   "cell_type": "code",
   "execution_count": null,
   "metadata": {},
   "outputs": [],
   "source": [
    "def inc(x):\n",
    "    return x + 1\n",
    "def dec(x):\n",
    "    return x - 1"
   ]
  },
  {
   "cell_type": "code",
   "execution_count": null,
   "metadata": {},
   "outputs": [],
   "source": [
    "#higher order function\n",
    "def operate(func, x):\n",
    "    result = func(x)\n",
    "    return result"
   ]
  },
  {
   "cell_type": "code",
   "execution_count": null,
   "metadata": {},
   "outputs": [],
   "source": [
    "operate(inc,3)"
   ]
  },
  {
   "cell_type": "code",
   "execution_count": null,
   "metadata": {},
   "outputs": [],
   "source": [
    "operate(dec,3)"
   ]
  },
  {
   "cell_type": "markdown",
   "metadata": {},
   "source": [
    "Furthermore, a function can return another function."
   ]
  },
  {
   "cell_type": "code",
   "execution_count": null,
   "metadata": {},
   "outputs": [],
   "source": [
    "def is_called():  # define 1st function\n",
    "    def is_returned():  # define 2nd function (nested)\n",
    "        print(\"Hello\")\n",
    "    return is_returned\n",
    "\n",
    "\n",
    "new = is_called()\n",
    "\n",
    "# Outputs \"Hello\"\n",
    "new()"
   ]
  },
  {
   "cell_type": "markdown",
   "metadata": {},
   "source": [
    "Here, **`is_returned()`** is a nested function which is defined and returned each time we call **`is_called()`**."
   ]
  },
  {
   "cell_type": "markdown",
   "metadata": {},
   "source": [
    " <h3> Closure Vs Decorator</h3>\n",
    " \n",
    "* Closures are nested functions that capture non-local variables of the outer functions.\n",
    "\n",
    "* Decorators are functions that extend the behavior of other functions without explicitly modifying them.\n"
   ]
  },
  {
   "cell_type": "code",
   "execution_count": null,
   "metadata": {},
   "outputs": [],
   "source": [
    "# Normal function\n",
    "def greeting():\n",
    "    return 'Welcome to Python'\n",
    "\n",
    "def uppercase_decorator(function):\n",
    "    def wrapper():\n",
    "        re = function()\n",
    "        make_uppercase = re.upper()\n",
    "        return make_uppercase\n",
    "    return wrapper"
   ]
  },
  {
   "cell_type": "code",
   "execution_count": null,
   "metadata": {},
   "outputs": [],
   "source": [
    "g = uppercase_decorator(greeting)"
   ]
  },
  {
   "cell_type": "code",
   "execution_count": null,
   "metadata": {},
   "outputs": [],
   "source": [
    "print(g())          # WELCOME TO PYTHON"
   ]
  },
  {
   "cell_type": "markdown",
   "metadata": {},
   "source": [
    "Let us implement the example above with a decorator"
   ]
  },
  {
   "cell_type": "code",
   "execution_count": null,
   "metadata": {},
   "outputs": [],
   "source": [
    "'''This decorator function is a higher order \n",
    "function that takes a function as a parameter'''\n",
    "def uppercase_decorator(function):\n",
    "    def wrapper():\n",
    "        #print(\"**************************\")\n",
    "        re = function()\n",
    "        make_uppercase = re.upper()\n",
    "        #print(\"***************************\")\n",
    "        return make_uppercase\n",
    "    return wrapper"
   ]
  },
  {
   "cell_type": "code",
   "execution_count": null,
   "metadata": {},
   "outputs": [],
   "source": [
    "@uppercase_decorator\n",
    "def greeting():\n",
    "    return 'Welcome to Python'"
   ]
  },
  {
   "cell_type": "code",
   "execution_count": null,
   "metadata": {},
   "outputs": [],
   "source": [
    "print(greeting())   # WELCOME TO PYTHON"
   ]
  },
  {
   "cell_type": "markdown",
   "metadata": {},
   "source": [
    " <h3> Getting back to Decorators </h3>\n",
    "Basically, a decorator takes in a function, adds some functionality and returns it."
   ]
  },
  {
   "cell_type": "code",
   "execution_count": 3,
   "metadata": {},
   "outputs": [],
   "source": [
    "def make_pretty(func):\n",
    "    def inner():\n",
    "        print(\"I got decorated\")\n",
    "        func()\n",
    "    return inner "
   ]
  },
  {
   "cell_type": "code",
   "execution_count": 4,
   "metadata": {},
   "outputs": [],
   "source": [
    "def ordinary():\n",
    "    print(\"I am ordinary\") "
   ]
  },
  {
   "cell_type": "markdown",
   "metadata": {},
   "source": [
    "When you run the following code"
   ]
  },
  {
   "cell_type": "code",
   "execution_count": 5,
   "metadata": {},
   "outputs": [],
   "source": [
    "pretty = make_pretty(ordinary)"
   ]
  },
  {
   "cell_type": "code",
   "execution_count": 6,
   "metadata": {},
   "outputs": [
    {
     "name": "stdout",
     "output_type": "stream",
     "text": [
      "I got decorated\n",
      "I am ordinary\n"
     ]
    }
   ],
   "source": [
    "pretty()"
   ]
  },
  {
   "cell_type": "code",
   "execution_count": 7,
   "metadata": {},
   "outputs": [
    {
     "data": {
      "text/plain": [
       "'inner'"
      ]
     },
     "execution_count": 7,
     "metadata": {},
     "output_type": "execute_result"
    }
   ],
   "source": [
    "pretty.__name__"
   ]
  },
  {
   "cell_type": "code",
   "execution_count": 8,
   "metadata": {},
   "outputs": [],
   "source": [
    "@make_pretty\n",
    "def ordinary():\n",
    "    print(\"I am ordinary\") "
   ]
  },
  {
   "cell_type": "code",
   "execution_count": 9,
   "metadata": {},
   "outputs": [
    {
     "name": "stdout",
     "output_type": "stream",
     "text": [
      "I got decorated\n",
      "I am ordinary\n"
     ]
    }
   ],
   "source": [
    "ordinary()"
   ]
  },
  {
   "cell_type": "markdown",
   "metadata": {},
   "source": [
    "In the example shown above, **`make_pretty()`** is a decorator. In the assignment step:\n",
    "\n",
    "```python\n",
    ">>> pretty = make_pretty(ordinary)\n",
    "```\n",
    "\n",
    "The function **`ordinary()`** got decorated and the returned function was given the name **`pretty`**.\n",
    "\n",
    "We can see that the decorator function added some new functionality to the original function. This is similar to packing a gift. The decorator acts as a wrapper. The nature of the object that got decorated (actual gift inside) does not alter. But now, it looks pretty (since it got decorated).\n",
    "\n",
    "Generally, we decorate a function and reassign it as,\n",
    "\n",
    "```python\n",
    ">>> ordinary = make_pretty(ordinary).\n",
    "```\n",
    "\n",
    "This is a common construct and for this reason, Python has a syntax to simplify this.\n",
    "\n",
    "We can use the **`@`** symbol along with the name of the decorator function and place it above the definition of the function to be decorated. For example,\n",
    "\n",
    "```python\n",
    ">>> @make_pretty\n",
    ">>> def ordinary():\n",
    ">>>     print(\"I am ordinary\")\n",
    "```\n",
    "\n",
    "is equivalent to\n",
    "\n",
    "```python\n",
    ">>> def ordinary():\n",
    ">>>     print(\"I am ordinary\")\n",
    ">>> ordinary = make_pretty(ordinary)\n",
    "```\n",
    "\n",
    "This is just a syntactic sugar to implement decorators."
   ]
  },
  {
   "cell_type": "markdown",
   "metadata": {},
   "source": [
    "<h3> Decorating Functions with Parameters </h3>\n",
    "\n",
    "The above decorator was simple and it only worked with functions that did not have any parameters. What if we had functions that took in parameters like:"
   ]
  },
  {
   "cell_type": "code",
   "execution_count": null,
   "metadata": {},
   "outputs": [],
   "source": [
    "def divide(a, b):\n",
    "    return a/b"
   ]
  },
  {
   "cell_type": "markdown",
   "metadata": {},
   "source": [
    "This function has two parameters, **`a`** and **`b`**. We know it will give an error if we pass in **`b`** as **`0`**."
   ]
  },
  {
   "cell_type": "code",
   "execution_count": null,
   "metadata": {},
   "outputs": [],
   "source": [
    "divide(2,5)"
   ]
  },
  {
   "cell_type": "code",
   "execution_count": null,
   "metadata": {},
   "outputs": [],
   "source": [
    "divide(2,0)"
   ]
  },
  {
   "cell_type": "markdown",
   "metadata": {},
   "source": [
    "Now let's make a decorator to check for this case that will cause the error."
   ]
  },
  {
   "cell_type": "code",
   "execution_count": null,
   "metadata": {},
   "outputs": [],
   "source": [
    "def smart_divide(func):\n",
    "    def inner(a,b):\n",
    "        print(\"I am going to divide\", a, \"and\", b)\n",
    "        if b == 0:\n",
    "            print(\"Whoops! cannot divide with 0\")\n",
    "            return\n",
    "\n",
    "        return func(a, b)\n",
    "    return inner"
   ]
  },
  {
   "cell_type": "code",
   "execution_count": null,
   "metadata": {},
   "outputs": [],
   "source": [
    "@smart_divide\n",
    "def divide(a, b):\n",
    "    print(a/b)"
   ]
  },
  {
   "cell_type": "markdown",
   "metadata": {},
   "source": [
    "This new implementation will return **`None`** if the error condition arises."
   ]
  },
  {
   "cell_type": "code",
   "execution_count": null,
   "metadata": {},
   "outputs": [],
   "source": [
    "divide(2,5)"
   ]
  },
  {
   "cell_type": "code",
   "execution_count": null,
   "metadata": {},
   "outputs": [],
   "source": [
    "divide(2,0)"
   ]
  },
  {
   "cell_type": "code",
   "execution_count": null,
   "metadata": {},
   "outputs": [],
   "source": [
    "# Example:\n",
    "def decorator_with_parameters(function):\n",
    "    def wrapper_accepting_parameters(para1, para2, para3):\n",
    "        function(para1, para2, para3)\n",
    "        print(\"I live in {}\".format(para3))\n",
    "    return wrapper_accepting_parameters\n",
    "\n",
    "@decorator_with_parameters\n",
    "def print_full_name(first_name, last_name, country):\n",
    "    print(\"I am {} {}. I love to teach.\".format(\n",
    "        first_name, last_name, country))"
   ]
  },
  {
   "cell_type": "code",
   "execution_count": null,
   "metadata": {},
   "outputs": [],
   "source": [
    "print_full_name(\"Libo\", \"Zhang\",'China')"
   ]
  },
  {
   "cell_type": "markdown",
   "metadata": {},
   "source": [
    "In this manner, we can decorate functions that take parameters.\n",
    "\n",
    "Parameters of the nested **`inner()`** function inside the decorator is the same as the parameters of functions it decorates. Taking this into account, now we can make general decorators that work with any number of parameters.\n",
    "\n",
    "In Python, this magic is done as **`function(*args, **kwargs)`**. In this way, **`args`** will be the **tuple** of positional arguments and **`kwargs`** will be the **dictionary** of keyword arguments. An example of such a decorator will be:\n",
    "\n",
    "```python\n",
    ">>> def works_for_all(func):\n",
    ">>>     def inner(*args, **kwargs):\n",
    ">>>         print(\"I can decorate any function\")\n",
    ">>>         return func(*args, **kwargs)\n",
    ">>>     return inner\n",
    "```"
   ]
  },
  {
   "cell_type": "markdown",
   "metadata": {},
   "source": [
    "<h3> Chaining Decorators in Python</h3>\n",
    "\n",
    "Multiple decorators can be chained in Python.\n",
    "\n",
    "This is to say, a function can be decorated multiple times with different (or same) decorators. We simply place the decorators above the desired function."
   ]
  },
  {
   "cell_type": "code",
   "execution_count": null,
   "metadata": {},
   "outputs": [],
   "source": [
    "#decorator-01\n",
    "def star(func):\n",
    "    def inner(*args, **kwargs):\n",
    "        print(\"*\" * 30)\n",
    "        func(*args, **kwargs)\n",
    "        print(\"*\" * 30)\n",
    "    return inner\n",
    "\n",
    "#decorator-02\n",
    "def percent(func):\n",
    "    def inner(*args, **kwargs):\n",
    "        print(\"%\" * 30)\n",
    "        func(*args, **kwargs)\n",
    "        print(\"%\" * 30)\n",
    "    return inner"
   ]
  },
  {
   "cell_type": "code",
   "execution_count": null,
   "metadata": {},
   "outputs": [],
   "source": [
    "@star\n",
    "@percent\n",
    "def printer(msg):\n",
    "    print(msg)"
   ]
  },
  {
   "cell_type": "code",
   "execution_count": null,
   "metadata": {},
   "outputs": [],
   "source": [
    "printer(\"Hello\")"
   ]
  },
  {
   "cell_type": "markdown",
   "metadata": {},
   "source": [
    "The above syntax of,\n",
    "\n",
    "```python\n",
    ">>> @star\n",
    ">>> @percent\n",
    ">>> def printer(msg):\n",
    ">>>     print(msg)\n",
    "```\n",
    "\n",
    "is equivalent to\n",
    "\n",
    "```python\n",
    ">>> def printer(msg):\n",
    ">>>     print(msg)\n",
    ">>> printer = star(percent(printer))\n",
    "```\n",
    "\n",
    "The order in which we chain decorators matter. If we had reversed the order as,\n",
    "\n",
    "```python\n",
    ">>> @percent\n",
    ">>> @star\n",
    ">>> def printer(msg):\n",
    ">>>     print(msg)\n",
    "```\n",
    "\n",
    "The output would be:\n",
    "\n",
    "```python\n",
    "%%%%%%%%%%%%%%%%%%%%%%%%%%%%%%\n",
    "******************************\n",
    "Hello\n",
    "******************************\n",
    "%%%%%%%%%%%%%%%%%%%%%%%%%%%%%%\n",
    "```"
   ]
  },
  {
   "cell_type": "markdown",
   "metadata": {},
   "source": [
    "Another example of applying Multiple Decorators to a Single Function"
   ]
  },
  {
   "cell_type": "code",
   "execution_count": null,
   "metadata": {},
   "outputs": [],
   "source": [
    "'''These decorator functions are higher order functions\n",
    "that take functions as parameters'''\n",
    "\n",
    "# First Decorator\n",
    "def uppercase_decorator(function):\n",
    "    def wrapper():\n",
    "        func = function()\n",
    "        make_uppercase = func.upper()\n",
    "        return make_uppercase\n",
    "    return wrapper\n",
    "\n",
    "# Second decorator\n",
    "def split_string_decorator(function):\n",
    "    def wrapper():\n",
    "        func = function()\n",
    "        splitted_string = func.split()\n",
    "        return splitted_string\n",
    "\n",
    "    return wrapper\n",
    "\n",
    "\"\"\"order with decorators is important in this case - .upper() \n",
    "function does not work with lists\"\"\"\n",
    "\n",
    "@split_string_decorator\n",
    "@uppercase_decorator     \n",
    "def greeting():\n",
    "    return 'Welcome to Python'\n",
    "print(greeting())   # WELCOME TO PYTHON"
   ]
  },
  {
   "cell_type": "markdown",
   "metadata": {},
   "source": [
    "<h3> Built-in Higher Order Functions</h3>\n",
    "\n",
    "Some of the built-in higher order functions that we cover in this part are **map()** and **filter()**.\n",
    "**Lambda function** can be passed as a parameter and the best use case of lambda functions is in functions like **map()** and **filter()**."
   ]
  },
  {
   "cell_type": "markdown",
   "metadata": {},
   "source": [
    "<h3> Python - map Function</h3>\n",
    "\n",
    "The **map()** function is a built-in function that takes a function and iterable as parameters.\n",
    "\n",
    "```py\n",
    "    # syntax\n",
    "    map(function, iterable)\n",
    "```"
   ]
  },
  {
   "cell_type": "code",
   "execution_count": null,
   "metadata": {},
   "outputs": [],
   "source": [
    "# Example 1: \n",
    "\n",
    "numbers = [1, 2, 3, 4, 5] # iterable\n",
    "def square(x):\n",
    "    return x ** 2\n",
    "numbers_squared = map(square, numbers)\n",
    "print(list(numbers_squared))    # [1, 4, 9, 16, 25]\n",
    "# Lets apply it with a lambda function\n",
    "numbers_squared = map(lambda x : x ** 2, numbers)\n",
    "print(list(numbers_squared))    # [1, 4, 9, 16, 25]"
   ]
  },
  {
   "cell_type": "code",
   "execution_count": null,
   "metadata": {},
   "outputs": [],
   "source": [
    "# Example 2: \n",
    "\n",
    "numbers_str = ['1', '2', '3', '4', '5']  # iterable\n",
    "numbers_int = map(int, numbers_str)\n",
    "print(list(numbers_int))    # [1, 2, 3, 4, 5]"
   ]
  },
  {
   "cell_type": "code",
   "execution_count": null,
   "metadata": {},
   "outputs": [],
   "source": [
    "# Example 3: \n",
    "\n",
    "names = ['Milaan', 'Arthur', 'Bill', 'Clark']  # iterable\n",
    "\n",
    "def change_to_upper(name):\n",
    "    return name.upper()\n",
    "\n",
    "names_upper_cased = map(change_to_upper, names)\n",
    "print(list(names_upper_cased))    # ['Milaan', 'Arthur', 'Bill', 'Clark']\n",
    "\n",
    "# Let us apply it wit h a lambda function\n",
    "names_upper_cased = map(lambda name: name.upper(), names)\n",
    "print(list(names_upper_cased))    # ['Milaan', 'Arthur', 'Bill', 'Clark']"
   ]
  },
  {
   "cell_type": "markdown",
   "metadata": {},
   "source": [
    "What actually map does is iterating over a list. For instance, it changes the names to upper case and returns a new list."
   ]
  },
  {
   "cell_type": "markdown",
   "metadata": {},
   "source": [
    "<h3> Python - filter Function</h3>\n",
    "\n",
    "The **filter()** function calls the specified function which returns boolean for each item of the specified iterable (list). It filters the items that satisfy the filtering criteria.\n",
    "\n",
    "```py\n",
    "    # syntax\n",
    "    filter(function, iterable)\n",
    "```"
   ]
  },
  {
   "cell_type": "code",
   "execution_count": null,
   "metadata": {},
   "outputs": [],
   "source": [
    "# Example 1: \n",
    "\n",
    "numbers = [1, 2, 3, 4, 5]  # iterable\n",
    "\n",
    "def is_even(num):\n",
    "    if num % 2 == 0:\n",
    "        return True\n",
    "    return False\n",
    "\n",
    "even_numbers = filter(is_even, numbers)\n",
    "print(list(even_numbers))       # [2, 4]"
   ]
  },
  {
   "cell_type": "code",
   "execution_count": null,
   "metadata": {},
   "outputs": [],
   "source": [
    "# Example 2: \n",
    "\n",
    "numbers = [1, 2, 3, 4, 5]  # iterable\n",
    "\n",
    "def is_odd(num):\n",
    "    if num % 2 != 0:\n",
    "        return True\n",
    "    return False\n",
    "\n",
    "odd_numbers = filter(is_odd, numbers)\n",
    "print(list(odd_numbers))       # [1, 3, 5]"
   ]
  },
  {
   "cell_type": "code",
   "execution_count": null,
   "metadata": {},
   "outputs": [],
   "source": [
    "# Example 3: Filter long name\n",
    "\n",
    "names = ['Milaan', 'Arthur', 'Bill', 'Clark']  # iterable\n",
    "def is_name_long(name):\n",
    "    if len(name) > 5:\n",
    "        return True\n",
    "    return False\n",
    "\n",
    "long_names = filter(is_name_long, names)\n",
    "print(list(long_names))         # ['Milaan', 'Arthur']"
   ]
  },
  {
   "cell_type": "code",
   "execution_count": null,
   "metadata": {},
   "outputs": [],
   "source": []
  }
 ],
 "metadata": {
  "hide_input": false,
  "kernelspec": {
   "display_name": "Python 3 (ipykernel)",
   "language": "python",
   "name": "python3"
  },
  "language_info": {
   "codemirror_mode": {
    "name": "ipython",
    "version": 3
   },
   "file_extension": ".py",
   "mimetype": "text/x-python",
   "name": "python",
   "nbconvert_exporter": "python",
   "pygments_lexer": "ipython3",
   "version": "3.11.0"
  },
  "toc": {
   "base_numbering": 1,
   "nav_menu": {},
   "number_sections": true,
   "sideBar": true,
   "skip_h1_title": false,
   "title_cell": "Table of Contents",
   "title_sidebar": "Contents",
   "toc_cell": false,
   "toc_position": {},
   "toc_section_display": true,
   "toc_window_display": false
  },
  "varInspector": {
   "cols": {
    "lenName": 16,
    "lenType": 16,
    "lenVar": 40
   },
   "kernels_config": {
    "python": {
     "delete_cmd_postfix": "",
     "delete_cmd_prefix": "del ",
     "library": "var_list.py",
     "varRefreshCmd": "print(var_dic_list())"
    },
    "r": {
     "delete_cmd_postfix": ") ",
     "delete_cmd_prefix": "rm(",
     "library": "var_list.r",
     "varRefreshCmd": "cat(var_dic_list()) "
    }
   },
   "types_to_exclude": [
    "module",
    "function",
    "builtin_function_or_method",
    "instance",
    "_Feature"
   ],
   "window_display": false
  }
 },
 "nbformat": 4,
 "nbformat_minor": 4
}
